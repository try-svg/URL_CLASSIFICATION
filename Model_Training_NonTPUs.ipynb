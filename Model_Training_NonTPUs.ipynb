{
 "cells": [
  {
   "cell_type": "markdown",
   "id": "k8JiFmXgwGNN",
   "metadata": {
    "id": "k8JiFmXgwGNN"
   },
   "source": [
    "# Train and Check accuracy on 20% test data"
   ]
  },
  {
   "cell_type": "code",
   "execution_count": 2,
   "id": "f58a00ff",
   "metadata": {
    "id": "f58a00ff"
   },
   "outputs": [
    {
     "name": "stderr",
     "output_type": "stream",
     "text": [
      "2024-11-10 02:37:08.284674: I tensorflow/tsl/cuda/cudart_stub.cc:28] Could not find cuda drivers on your machine, GPU will not be used.\n",
      "2024-11-10 02:37:08.711001: I tensorflow/tsl/cuda/cudart_stub.cc:28] Could not find cuda drivers on your machine, GPU will not be used.\n",
      "2024-11-10 02:37:08.712907: I tensorflow/core/platform/cpu_feature_guard.cc:182] This TensorFlow binary is optimized to use available CPU instructions in performance-critical operations.\n",
      "To enable the following instructions: AVX2 FMA, in other operations, rebuild TensorFlow with the appropriate compiler flags.\n",
      "2024-11-10 02:37:09.848019: W tensorflow/compiler/tf2tensorrt/utils/py_utils.cc:38] TF-TRT Warning: Could not find TensorRT\n"
     ]
    }
   ],
   "source": [
    "import sys\n",
    "# sys.path.append(\"/content/drive/MyDrive/URL_Checker\")  # this appends the parent directory to the sys.path list\n",
    "import pandas as pd\n",
    "import numpy as np\n",
    "import matplotlib.pyplot as plt\n",
    "import random\n",
    "import re\n",
    "import json\n",
    "import tensorflow as tf\n",
    "from nltk.util import ngrams\n",
    "import itertools\n",
    "from Utils import Evaluation\n",
    "from Utils import DataProcessing, FeatureCreation, Model\n",
    "N_for_NGram = 5\n",
    "Sequence_length = 50\n",
    "epochs = 5\n",
    "n_classes = 2"
   ]
  },
  {
   "cell_type": "code",
   "execution_count": 3,
   "id": "9eaa2e0f",
   "metadata": {
    "id": "9eaa2e0f"
   },
   "outputs": [],
   "source": [
    "from sklearn.model_selection import train_test_split\n",
    "df1 = pd.read_csv(\"dataset/df_final.csv\")\n",
    "df2 = pd.read_csv(\"dataset/all_top_domains_merged.csv\")\n",
    "test_df = pd.read_csv(\"dataset/df_another_validation.csv\")\n",
    "url_dataframe = pd.concat([df1,df2], axis=0)\n",
    "url_dataframe = url_dataframe.sample(frac=1).reset_index(drop=True)\n",
    "url_dataframe = url_dataframe.drop_duplicates()\n",
    "url_dataframe = url_dataframe.dropna().reset_index(drop=True)"
   ]
  },
  {
   "cell_type": "code",
   "execution_count": 4,
   "id": "5ade05ed",
   "metadata": {
    "id": "5ade05ed"
   },
   "outputs": [],
   "source": [
    "train_df, val_df = train_test_split(url_dataframe, test_size=0.20, stratify=url_dataframe['type'])\n",
    "# train_df, val_df = train_test_split(train_df, test_size=0.20, stratify=train_df['type'])"
   ]
  },
  {
   "cell_type": "code",
   "execution_count": 5,
   "id": "68bc2e77",
   "metadata": {
    "id": "68bc2e77",
    "scrolled": false
   },
   "outputs": [
    {
     "name": "stderr",
     "output_type": "stream",
     "text": [
      "2024-11-10 02:37:54.455064: W tensorflow/tsl/framework/cpu_allocator_impl.cc:83] Allocation of 89309808 exceeds 10% of free system memory.\n",
      "2024-11-10 02:37:54.570608: W tensorflow/tsl/framework/cpu_allocator_impl.cc:83] Allocation of 89309808 exceeds 10% of free system memory.\n",
      "2024-11-10 02:37:54.599107: I tensorflow/core/common_runtime/executor.cc:1197] [/device:CPU:0] (DEBUG INFO) Executor start aborting (this does not indicate an error and you can ignore this message): INVALID_ARGUMENT: You must feed a value for placeholder tensor 'Placeholder/_2' with dtype int64 and shape [620207]\n",
      "\t [[{{node Placeholder/_2}}]]\n",
      "2024-11-10 02:38:10.088016: W tensorflow/tsl/framework/cpu_allocator_impl.cc:83] Allocation of 69805272 exceeds 10% of free system memory.\n",
      "2024-11-10 02:38:13.783626: W tensorflow/tsl/framework/cpu_allocator_impl.cc:83] Allocation of 69805272 exceeds 10% of free system memory.\n"
     ]
    }
   ],
   "source": [
    "Batch_Size = 64\n",
    "# Batch_Size = 128\n",
    "max_tokens = 100000\n",
    "# with strategy.scope():\n",
    "train_ds = DataProcessing.process_train_data(train_df,Batch_Size)\n",
    "Vectorize_Layer = tf.keras.layers.TextVectorization(standardize='lower',\n",
    "                                                    split=\"character\",\n",
    "                                                    ngrams=(N_for_NGram,),\n",
    "                                                    output_mode='int',\n",
    "                                                    max_tokens = max_tokens,\n",
    "                                                    output_sequence_length=Sequence_length)\n",
    "# Make a text-only dataset (without labels), then call adapt\n",
    "train_text = train_ds.map(lambda x,z: x[0])\n",
    "Vectorize_Layer.adapt(train_text)\n",
    "train_ds = train_ds.map(lambda x, z: DataProcessing.vectorize_text(x[0],x[1],z,Vectorize_Layer))\n",
    "train_ds = train_ds.cache().prefetch(buffer_size=tf.data.AUTOTUNE)"
   ]
  },
  {
   "cell_type": "code",
   "execution_count": 6,
   "id": "ff7e49bd",
   "metadata": {
    "id": "ff7e49bd"
   },
   "outputs": [
    {
     "name": "stderr",
     "output_type": "stream",
     "text": [
      "2024-11-10 02:38:51.250062: W tensorflow/tsl/framework/cpu_allocator_impl.cc:83] Allocation of 71901648 exceeds 10% of free system memory.\n"
     ]
    }
   ],
   "source": [
    "# with strategy.scope():\n",
    "val_ds = DataProcessing.process_data(val_df,Batch_Size,Vectorize_Layer)\n",
    "test_ds = DataProcessing.process_data(test_df,Batch_Size,Vectorize_Layer)"
   ]
  },
  {
   "cell_type": "code",
   "execution_count": 7,
   "id": "8004fd9c",
   "metadata": {},
   "outputs": [
    {
     "data": {
      "text/plain": [
       "100000"
      ]
     },
     "execution_count": 7,
     "metadata": {},
     "output_type": "execute_result"
    }
   ],
   "source": [
    "len(Vectorize_Layer.get_vocabulary())"
   ]
  },
  {
   "cell_type": "code",
   "execution_count": 8,
   "id": "cd8a8373",
   "metadata": {
    "colab": {
     "base_uri": "https://localhost:8080/"
    },
    "id": "cd8a8373",
    "outputId": "bed313e1-01ef-4711-a4ed-cd6cef672402"
   },
   "outputs": [
    {
     "name": "stdout",
     "output_type": "stream",
     "text": [
      "Model: \"model_2\"\n",
      "__________________________________________________________________________________________________\n",
      " Layer (type)                   Output Shape         Param #     Connected to                     \n",
      "==================================================================================================\n",
      " input_2 (InputLayer)           [(None, 18)]         0           []                               \n",
      "                                                                                                  \n",
      " dense (Dense)                  (None, 128)          2432        ['input_2[0][0]']                \n",
      "                                                                                                  \n",
      " dropout_3 (Dropout)            (None, 128)          0           ['dense[0][0]']                  \n",
      "                                                                                                  \n",
      " dense_1 (Dense)                (None, 256)          33024       ['dropout_3[0][0]']              \n",
      "                                                                                                  \n",
      " dropout_4 (Dropout)            (None, 256)          0           ['dense_1[0][0]']                \n",
      "                                                                                                  \n",
      " input_1 (InputLayer)           [(None, 50)]         0           []                               \n",
      "                                                                                                  \n",
      " dense_2 (Dense)                (None, 512)          131584      ['dropout_4[0][0]']              \n",
      "                                                                                                  \n",
      " embedding (Embedding)          (None, 50, 128)      12800000    ['input_1[0][0]']                \n",
      "                                                                                                  \n",
      " dropout_5 (Dropout)            (None, 512)          0           ['dense_2[0][0]']                \n",
      "                                                                                                  \n",
      " gru (GRU)                      (None, 50, 128)      99072       ['embedding[0][0]']              \n",
      "                                                                                                  \n",
      " dense_3 (Dense)                (None, 512)          262656      ['dropout_5[0][0]']              \n",
      "                                                                                                  \n",
      " dropout (Dropout)              (None, 50, 128)      0           ['gru[0][0]']                    \n",
      "                                                                                                  \n",
      " dropout_6 (Dropout)            (None, 512)          0           ['dense_3[0][0]']                \n",
      "                                                                                                  \n",
      " gru_1 (GRU)                    (None, 50, 128)      99072       ['dropout[0][0]']                \n",
      "                                                                                                  \n",
      " dense_4 (Dense)                (None, 256)          131328      ['dropout_6[0][0]']              \n",
      "                                                                                                  \n",
      " dropout_1 (Dropout)            (None, 50, 128)      0           ['gru_1[0][0]']                  \n",
      "                                                                                                  \n",
      " dropout_7 (Dropout)            (None, 256)          0           ['dense_4[0][0]']                \n",
      "                                                                                                  \n",
      " gru_2 (GRU)                    (None, 128)          99072       ['dropout_1[0][0]']              \n",
      "                                                                                                  \n",
      " dense_5 (Dense)                (None, 128)          32896       ['dropout_7[0][0]']              \n",
      "                                                                                                  \n",
      " dropout_2 (Dropout)            (None, 128)          0           ['gru_2[0][0]']                  \n",
      "                                                                                                  \n",
      " dropout_8 (Dropout)            (None, 128)          0           ['dense_5[0][0]']                \n",
      "                                                                                                  \n",
      " concatenate (Concatenate)      (None, 256)          0           ['dropout_2[0][0]',              \n",
      "                                                                  'dropout_8[0][0]']              \n",
      "                                                                                                  \n",
      " dense_6 (Dense)                (None, 64)           16448       ['concatenate[0][0]']            \n",
      "                                                                                                  \n",
      " dropout_9 (Dropout)            (None, 64)           0           ['dense_6[0][0]']                \n",
      "                                                                                                  \n",
      " dense_7 (Dense)                (None, 1)            65          ['dropout_9[0][0]']              \n",
      "                                                                                                  \n",
      "==================================================================================================\n",
      "Total params: 13,707,649\n",
      "Trainable params: 13,707,649\n",
      "Non-trainable params: 0\n",
      "__________________________________________________________________________________________________\n",
      "None\n"
     ]
    }
   ],
   "source": [
    "# with strategy.scope():\n",
    "model = Model.create_model(Sequence_length, max_tokens, 18)\n",
    "print(model.summary())\n",
    "model.compile(loss='binary_crossentropy', optimizer='adam', metrics=['accuracy'])"
   ]
  },
  {
   "cell_type": "code",
   "execution_count": 9,
   "id": "vteRUJSK-iff",
   "metadata": {
    "colab": {
     "base_uri": "https://localhost:8080/"
    },
    "id": "vteRUJSK-iff",
    "outputId": "6a02264c-e986-4d65-e682-6287dc3d1923"
   },
   "outputs": [
    {
     "name": "stdout",
     "output_type": "stream",
     "text": [
      "Epoch 1/5\n"
     ]
    },
    {
     "name": "stderr",
     "output_type": "stream",
     "text": [
      "2024-11-08 22:57:13.892197: I tensorflow/core/common_runtime/executor.cc:1197] [/device:CPU:0] (DEBUG INFO) Executor start aborting (this does not indicate an error and you can ignore this message): INVALID_ARGUMENT: You must feed a value for placeholder tensor 'Placeholder/_7' with dtype resource\n",
      "\t [[{{node Placeholder/_7}}]]\n"
     ]
    },
    {
     "name": "stdout",
     "output_type": "stream",
     "text": [
      "9691/9691 [==============================] - ETA: 0s - loss: 0.0767 - accuracy: 0.9733"
     ]
    },
    {
     "name": "stderr",
     "output_type": "stream",
     "text": [
      "2024-11-08 23:30:33.045258: I tensorflow/core/common_runtime/executor.cc:1197] [/device:CPU:0] (DEBUG INFO) Executor start aborting (this does not indicate an error and you can ignore this message): INVALID_ARGUMENT: You must feed a value for placeholder tensor 'Placeholder/_17' with dtype resource\n",
      "\t [[{{node Placeholder/_17}}]]\n",
      "2024-11-08 23:30:33.045699: I tensorflow/core/common_runtime/executor.cc:1197] [/device:CPU:0] (DEBUG INFO) Executor start aborting (this does not indicate an error and you can ignore this message): INVALID_ARGUMENT: You must feed a value for placeholder tensor 'Placeholder/_1' with dtype int64 and shape [156335,18]\n",
      "\t [[{{node Placeholder/_1}}]]\n"
     ]
    },
    {
     "name": "stdout",
     "output_type": "stream",
     "text": [
      "9691/9691 [==============================] - 2062s 212ms/step - loss: 0.0767 - accuracy: 0.9733 - val_loss: 0.0494 - val_accuracy: 0.9832\n",
      "Epoch 2/5\n",
      "9691/9691 [==============================] - 2035s 210ms/step - loss: 0.0384 - accuracy: 0.9871 - val_loss: 0.0446 - val_accuracy: 0.9851\n",
      "Epoch 3/5\n",
      "9691/9691 [==============================] - 2029s 209ms/step - loss: 0.0249 - accuracy: 0.9919 - val_loss: 0.0512 - val_accuracy: 0.9843\n",
      "Epoch 4/5\n",
      "9691/9691 [==============================] - 2014s 208ms/step - loss: 0.0169 - accuracy: 0.9944 - val_loss: 0.0578 - val_accuracy: 0.9844\n",
      "Epoch 5/5\n",
      "9691/9691 [==============================] - 2012s 208ms/step - loss: 0.0121 - accuracy: 0.9960 - val_loss: 0.0688 - val_accuracy: 0.9841\n"
     ]
    }
   ],
   "source": [
    "history = model.fit(\n",
    "    train_ds,\n",
    "    epochs=epochs,\n",
    "    batch_size=Batch_Size,\n",
    "    validation_data=val_ds)"
   ]
  },
  {
   "cell_type": "code",
   "execution_count": 10,
   "id": "7nQdN_YB-ogv",
   "metadata": {
    "colab": {
     "base_uri": "https://localhost:8080/"
    },
    "id": "7nQdN_YB-ogv",
    "outputId": "de7e7c7e-36cf-4522-9de0-ec24cc148f52"
   },
   "outputs": [
    {
     "name": "stderr",
     "output_type": "stream",
     "text": [
      "2024-11-09 01:46:32.014615: I tensorflow/core/common_runtime/executor.cc:1197] [/device:CPU:0] (DEBUG INFO) Executor start aborting (this does not indicate an error and you can ignore this message): INVALID_ARGUMENT: You must feed a value for placeholder tensor 'Placeholder/_20' with dtype int64\n",
      "\t [[{{node Placeholder/_20}}]]\n",
      "2024-11-09 01:46:32.015122: I tensorflow/core/common_runtime/executor.cc:1197] [/device:CPU:0] (DEBUG INFO) Executor start aborting (this does not indicate an error and you can ignore this message): INVALID_ARGUMENT: You must feed a value for placeholder tensor 'Placeholder/_17' with dtype resource\n",
      "\t [[{{node Placeholder/_17}}]]\n"
     ]
    },
    {
     "name": "stdout",
     "output_type": "stream",
     "text": [
      "   2060/Unknown - 50s 24ms/step"
     ]
    },
    {
     "name": "stdout",
     "output_type": "stream",
     "text": [
      "7802/7802 [==============================] - 190s 24ms/step\n",
      "Confusion Matrix:\n",
      "[[  8521  98101]\n",
      " [ 46596 346099]]\n",
      "Accuracy: 0.7102101470608851\n",
      "Precision: 0.6457869524541044\n",
      "Recall: 0.7102101470608851\n",
      "F1 Score: 0.6729863240122619\n"
     ]
    }
   ],
   "source": [
    "result = Evaluation.evaluate_model(model, test_ds, 0.5)"
   ]
  },
  {
   "cell_type": "markdown",
   "id": "oHhBPM5SbXMc",
   "metadata": {
    "id": "oHhBPM5SbXMc"
   },
   "source": [
    "Here it represents over 98.4% accuracy on validation data i.e. 20% of total data. and 71% accuracy for another dataset, which is not belongs to our dataset (it means our model is more generalized and will perform great for unseen data.)"
   ]
  },
  {
   "cell_type": "code",
   "execution_count": 11,
   "id": "0H9qXB5W-bxp",
   "metadata": {
    "id": "0H9qXB5W-bxp"
   },
   "outputs": [],
   "source": [
    "links = [\"itunes.apple.com/gb/album/whb-bonus-track-version/id358709625\", \"http://45.231.210.144:47317/Mozi.m\", \"www.google.com\", \"http://10.40.102.155:5009/get\", \"http://money.onion\", \"www.achnet.com\", \"https://colab.research.google.com/\"]"
   ]
  },
  {
   "cell_type": "code",
   "execution_count": 12,
   "id": "VXwvbJZt9r_A",
   "metadata": {
    "colab": {
     "base_uri": "https://localhost:8080/"
    },
    "id": "VXwvbJZt9r_A",
    "outputId": "31c99ae4-ba60-4810-f0a6-2c6d48eec9eb"
   },
   "outputs": [
    {
     "name": "stdout",
     "output_type": "stream",
     "text": [
      "1/1 [==============================] - 0s 55ms/step\n",
      "1/1 [==============================] - 0s 55ms/step\n"
     ]
    },
    {
     "name": "stderr",
     "output_type": "stream",
     "text": [
      "2024-11-09 01:49:51.689089: I tensorflow/core/common_runtime/executor.cc:1197] [/device:CPU:0] (DEBUG INFO) Executor start aborting (this does not indicate an error and you can ignore this message): INVALID_ARGUMENT: You must feed a value for placeholder tensor 'Placeholder/_20' with dtype int64\n",
      "\t [[{{node Placeholder/_20}}]]\n",
      "2024-11-09 01:49:51.689550: I tensorflow/core/common_runtime/executor.cc:1197] [/device:CPU:0] (DEBUG INFO) Executor start aborting (this does not indicate an error and you can ignore this message): INVALID_ARGUMENT: You must feed a value for placeholder tensor 'Placeholder/_17' with dtype resource\n",
      "\t [[{{node Placeholder/_17}}]]\n",
      "2024-11-09 01:49:51.789991: I tensorflow/core/common_runtime/executor.cc:1197] [/device:CPU:0] (DEBUG INFO) Executor start aborting (this does not indicate an error and you can ignore this message): INVALID_ARGUMENT: You must feed a value for placeholder tensor 'Placeholder/_17' with dtype resource\n",
      "\t [[{{node Placeholder/_17}}]]\n",
      "2024-11-09 01:49:51.790396: I tensorflow/core/common_runtime/executor.cc:1197] [/device:CPU:0] (DEBUG INFO) Executor start aborting (this does not indicate an error and you can ignore this message): INVALID_ARGUMENT: You must feed a value for placeholder tensor 'Placeholder/_20' with dtype int64\n",
      "\t [[{{node Placeholder/_20}}]]\n"
     ]
    },
    {
     "name": "stdout",
     "output_type": "stream",
     "text": [
      "1/1 [==============================] - 0s 56ms/step\n",
      "1/1 [==============================] - 0s 55ms/step\n"
     ]
    },
    {
     "name": "stderr",
     "output_type": "stream",
     "text": [
      "2024-11-09 01:49:51.892045: I tensorflow/core/common_runtime/executor.cc:1197] [/device:CPU:0] (DEBUG INFO) Executor start aborting (this does not indicate an error and you can ignore this message): INVALID_ARGUMENT: You must feed a value for placeholder tensor 'Placeholder/_18' with dtype int64\n",
      "\t [[{{node Placeholder/_18}}]]\n",
      "2024-11-09 01:49:51.892475: I tensorflow/core/common_runtime/executor.cc:1197] [/device:CPU:0] (DEBUG INFO) Executor start aborting (this does not indicate an error and you can ignore this message): INVALID_ARGUMENT: You must feed a value for placeholder tensor 'Placeholder/_19' with dtype string\n",
      "\t [[{{node Placeholder/_19}}]]\n",
      "2024-11-09 01:49:51.993459: I tensorflow/core/common_runtime/executor.cc:1197] [/device:CPU:0] (DEBUG INFO) Executor start aborting (this does not indicate an error and you can ignore this message): INVALID_ARGUMENT: You must feed a value for placeholder tensor 'Placeholder/_0' with dtype string and shape [1]\n",
      "\t [[{{node Placeholder/_0}}]]\n",
      "2024-11-09 01:49:51.993817: I tensorflow/core/common_runtime/executor.cc:1197] [/device:CPU:0] (DEBUG INFO) Executor start aborting (this does not indicate an error and you can ignore this message): INVALID_ARGUMENT: You must feed a value for placeholder tensor 'Placeholder/_1' with dtype int64 and shape [1,18]\n",
      "\t [[{{node Placeholder/_1}}]]\n"
     ]
    },
    {
     "name": "stdout",
     "output_type": "stream",
     "text": [
      "1/1 [==============================] - 0s 55ms/step\n",
      "1/1 [==============================] - 0s 58ms/step\n"
     ]
    },
    {
     "name": "stderr",
     "output_type": "stream",
     "text": [
      "2024-11-09 01:49:52.094561: I tensorflow/core/common_runtime/executor.cc:1197] [/device:CPU:0] (DEBUG INFO) Executor start aborting (this does not indicate an error and you can ignore this message): INVALID_ARGUMENT: You must feed a value for placeholder tensor 'Placeholder/_19' with dtype string\n",
      "\t [[{{node Placeholder/_19}}]]\n",
      "2024-11-09 01:49:52.094983: I tensorflow/core/common_runtime/executor.cc:1197] [/device:CPU:0] (DEBUG INFO) Executor start aborting (this does not indicate an error and you can ignore this message): INVALID_ARGUMENT: You must feed a value for placeholder tensor 'Placeholder/_2' with dtype int64 and shape [1]\n",
      "\t [[{{node Placeholder/_2}}]]\n",
      "2024-11-09 01:49:52.194282: I tensorflow/core/common_runtime/executor.cc:1197] [/device:CPU:0] (DEBUG INFO) Executor start aborting (this does not indicate an error and you can ignore this message): INVALID_ARGUMENT: You must feed a value for placeholder tensor 'Placeholder/_2' with dtype int64 and shape [1]\n",
      "\t [[{{node Placeholder/_2}}]]\n",
      "2024-11-09 01:49:52.194633: I tensorflow/core/common_runtime/executor.cc:1197] [/device:CPU:0] (DEBUG INFO) Executor start aborting (this does not indicate an error and you can ignore this message): INVALID_ARGUMENT: You must feed a value for placeholder tensor 'Placeholder/_0' with dtype string and shape [1]\n",
      "\t [[{{node Placeholder/_0}}]]\n"
     ]
    },
    {
     "name": "stdout",
     "output_type": "stream",
     "text": [
      "1/1 [==============================] - 0s 54ms/step\n"
     ]
    },
    {
     "name": "stderr",
     "output_type": "stream",
     "text": [
      "2024-11-09 01:49:52.298889: I tensorflow/core/common_runtime/executor.cc:1197] [/device:CPU:0] (DEBUG INFO) Executor start aborting (this does not indicate an error and you can ignore this message): INVALID_ARGUMENT: You must feed a value for placeholder tensor 'Placeholder/_19' with dtype string\n",
      "\t [[{{node Placeholder/_19}}]]\n",
      "2024-11-09 01:49:52.299290: I tensorflow/core/common_runtime/executor.cc:1197] [/device:CPU:0] (DEBUG INFO) Executor start aborting (this does not indicate an error and you can ignore this message): INVALID_ARGUMENT: You must feed a value for placeholder tensor 'Placeholder/_18' with dtype int64\n",
      "\t [[{{node Placeholder/_18}}]]\n"
     ]
    },
    {
     "data": {
      "text/plain": [
       "['Safe', 'Malicious', 'Safe', 'Malicious', 'Malicious', 'Safe', 'Malicious']"
      ]
     },
     "execution_count": 12,
     "metadata": {},
     "output_type": "execute_result"
    }
   ],
   "source": [
    "Evaluation.make_prediction(model,Batch_Size, Vectorize_Layer, links, 0.5)"
   ]
  },
  {
   "cell_type": "code",
   "execution_count": 3,
   "id": "efGpPhVPNjxm",
   "metadata": {
    "colab": {
     "base_uri": "https://localhost:8080/"
    },
    "id": "efGpPhVPNjxm",
    "outputId": "b142dc42-740e-407a-f54d-2ff0c98b337f"
   },
   "outputs": [
    {
     "name": "stderr",
     "output_type": "stream",
     "text": [
      "2024-11-09 04:15:14.641614: W tensorflow/tsl/framework/cpu_allocator_impl.cc:83] Allocation of 120104784 exceeds 10% of free system memory.\n",
      "2024-11-09 04:15:14.853219: W tensorflow/tsl/framework/cpu_allocator_impl.cc:83] Allocation of 120104784 exceeds 10% of free system memory.\n",
      "2024-11-09 04:15:14.904349: I tensorflow/core/common_runtime/executor.cc:1197] [/device:CPU:0] (DEBUG INFO) Executor start aborting (this does not indicate an error and you can ignore this message): INVALID_ARGUMENT: You must feed a value for placeholder tensor 'Placeholder/_2' with dtype int64 and shape [834061]\n",
      "\t [[{{node Placeholder/_2}}]]\n",
      "2024-11-09 04:15:40.007919: W tensorflow/tsl/framework/cpu_allocator_impl.cc:83] Allocation of 89216856 exceeds 10% of free system memory.\n",
      "2024-11-09 04:15:40.013035: W tensorflow/tsl/framework/cpu_allocator_impl.cc:83] Allocation of 29738952 exceeds 10% of free system memory.\n",
      "2024-11-09 04:15:46.196574: W tensorflow/tsl/framework/cpu_allocator_impl.cc:83] Allocation of 89216856 exceeds 10% of free system memory.\n"
     ]
    },
    {
     "name": "stdout",
     "output_type": "stream",
     "text": [
      "Model: \"model_2\"\n",
      "__________________________________________________________________________________________________\n",
      " Layer (type)                   Output Shape         Param #     Connected to                     \n",
      "==================================================================================================\n",
      " input_2 (InputLayer)           [(None, 18)]         0           []                               \n",
      "                                                                                                  \n",
      " dense (Dense)                  (None, 128)          2432        ['input_2[0][0]']                \n",
      "                                                                                                  \n",
      " dropout_3 (Dropout)            (None, 128)          0           ['dense[0][0]']                  \n",
      "                                                                                                  \n",
      " dense_1 (Dense)                (None, 256)          33024       ['dropout_3[0][0]']              \n",
      "                                                                                                  \n",
      " dropout_4 (Dropout)            (None, 256)          0           ['dense_1[0][0]']                \n",
      "                                                                                                  \n",
      " input_1 (InputLayer)           [(None, 50)]         0           []                               \n",
      "                                                                                                  \n",
      " dense_2 (Dense)                (None, 512)          131584      ['dropout_4[0][0]']              \n",
      "                                                                                                  \n",
      " embedding (Embedding)          (None, 50, 128)      12800000    ['input_1[0][0]']                \n",
      "                                                                                                  \n",
      " dropout_5 (Dropout)            (None, 512)          0           ['dense_2[0][0]']                \n",
      "                                                                                                  \n",
      " gru (GRU)                      (None, 50, 128)      99072       ['embedding[0][0]']              \n",
      "                                                                                                  \n",
      " dense_3 (Dense)                (None, 512)          262656      ['dropout_5[0][0]']              \n",
      "                                                                                                  \n",
      " dropout (Dropout)              (None, 50, 128)      0           ['gru[0][0]']                    \n",
      "                                                                                                  \n",
      " dropout_6 (Dropout)            (None, 512)          0           ['dense_3[0][0]']                \n",
      "                                                                                                  \n",
      " gru_1 (GRU)                    (None, 50, 128)      99072       ['dropout[0][0]']                \n",
      "                                                                                                  \n",
      " dense_4 (Dense)                (None, 256)          131328      ['dropout_6[0][0]']              \n",
      "                                                                                                  \n",
      " dropout_1 (Dropout)            (None, 50, 128)      0           ['gru_1[0][0]']                  \n",
      "                                                                                                  \n",
      " dropout_7 (Dropout)            (None, 256)          0           ['dense_4[0][0]']                \n",
      "                                                                                                  \n",
      " gru_2 (GRU)                    (None, 128)          99072       ['dropout_1[0][0]']              \n",
      "                                                                                                  \n",
      " dense_5 (Dense)                (None, 128)          32896       ['dropout_7[0][0]']              \n",
      "                                                                                                  \n",
      " dropout_2 (Dropout)            (None, 128)          0           ['gru_2[0][0]']                  \n",
      "                                                                                                  \n",
      " dropout_8 (Dropout)            (None, 128)          0           ['dense_5[0][0]']                \n",
      "                                                                                                  \n",
      " concatenate (Concatenate)      (None, 256)          0           ['dropout_2[0][0]',              \n",
      "                                                                  'dropout_8[0][0]']              \n",
      "                                                                                                  \n",
      " dense_6 (Dense)                (None, 64)           16448       ['concatenate[0][0]']            \n",
      "                                                                                                  \n",
      " dropout_9 (Dropout)            (None, 64)           0           ['dense_6[0][0]']                \n",
      "                                                                                                  \n",
      " dense_7 (Dense)                (None, 1)            65          ['dropout_9[0][0]']              \n",
      "                                                                                                  \n",
      "==================================================================================================\n",
      "Total params: 13,707,649\n",
      "Trainable params: 13,707,649\n",
      "Non-trainable params: 0\n",
      "__________________________________________________________________________________________________\n",
      "None\n",
      "Epoch 1/5\n"
     ]
    },
    {
     "name": "stderr",
     "output_type": "stream",
     "text": [
      "2024-11-09 04:15:47.859109: I tensorflow/core/common_runtime/executor.cc:1197] [/device:CPU:0] (DEBUG INFO) Executor start aborting (this does not indicate an error and you can ignore this message): INVALID_ARGUMENT: You must feed a value for placeholder tensor 'Placeholder/_2' with dtype int64 and shape [834061]\n",
      "\t [[{{node Placeholder/_2}}]]\n"
     ]
    },
    {
     "name": "stdout",
     "output_type": "stream",
     "text": [
      "13033/13033 [==============================] - 2718s 208ms/step - loss: 0.1469 - accuracy: 0.9251\n",
      "Epoch 2/5\n",
      "13033/13033 [==============================] - 2685s 206ms/step - loss: 0.1073 - accuracy: 0.9405\n",
      "Epoch 3/5\n",
      "13033/13033 [==============================] - 2700s 207ms/step - loss: 0.0872 - accuracy: 0.9515\n",
      "Epoch 4/5\n",
      "13033/13033 [==============================] - 2695s 207ms/step - loss: 0.0707 - accuracy: 0.9631\n",
      "Epoch 5/5\n",
      "13033/13033 [==============================] - 2697s 207ms/step - loss: 0.0576 - accuracy: 0.9717\n"
     ]
    }
   ],
   "source": [
    "df1 = pd.read_csv(\"dataset/df_final.csv\")\n",
    "df2 = pd.read_csv(\"dataset/all_top_domains_merged.csv\")\n",
    "df3 = pd.read_csv(\"dataset/df_another_validation.csv\")\n",
    "url_dataframe = pd.concat([df1,df2, df3], axis=0)\n",
    "url_dataframe = url_dataframe.sample(frac=1).reset_index(drop=True)\n",
    "url_dataframe = url_dataframe.drop_duplicates()\n",
    "url_dataframe = url_dataframe.dropna().reset_index(drop=True)\n",
    "# Batch_Size = 16 * strategy.num_replicas_in_sync\n",
    "Batch_Size = 64\n",
    "N_for_NGram = 5\n",
    "Sequence_length = 50\n",
    "epochs = 5\n",
    "n_classes = 2\n",
    "max_tokens = 100000\n",
    "# with strategy.scope():\n",
    "train_ds = DataProcessing.process_train_data(url_dataframe,Batch_Size)\n",
    "Vectorize_Layer = tf.keras.layers.TextVectorization(standardize='lower',\n",
    "                                                  split=\"character\",\n",
    "                                                  ngrams=(N_for_NGram,),\n",
    "                                                  output_mode='int',\n",
    "                                                  max_tokens = max_tokens,\n",
    "                                                  output_sequence_length=Sequence_length)\n",
    "\n",
    "# Make a text-only dataset (without labels), then call adapt\n",
    "train_text = train_ds.map(lambda x,z: x[0])\n",
    "Vectorize_Layer.adapt(train_text)\n",
    "train_ds = train_ds.map(lambda x, z: DataProcessing.vectorize_text(x[0],x[1],z,Vectorize_Layer))\n",
    "train_ds = train_ds.cache().prefetch(buffer_size=tf.data.AUTOTUNE)\n",
    "\n",
    "model = Model.create_model(Sequence_length, max_tokens, 18)\n",
    "print(model.summary())\n",
    "model.compile(loss='binary_crossentropy', optimizer='adam', metrics=['accuracy'])\n",
    "history = model.fit(\n",
    "    train_ds,\n",
    "    epochs=epochs,\n",
    "    batch_size=Batch_Size)"
   ]
  },
  {
   "cell_type": "code",
   "execution_count": 4,
   "id": "XGOL_fNXOSn2",
   "metadata": {
    "colab": {
     "base_uri": "https://localhost:8080/"
    },
    "id": "XGOL_fNXOSn2",
    "outputId": "fdcf182a-4b89-48e2-e6aa-e635f9130380"
   },
   "outputs": [
    {
     "name": "stderr",
     "output_type": "stream",
     "text": [
      "2024-11-09 08:00:42.804410: I tensorflow/core/common_runtime/executor.cc:1197] [/device:CPU:0] (DEBUG INFO) Executor start aborting (this does not indicate an error and you can ignore this message): INVALID_ARGUMENT: You must feed a value for placeholder tensor 'Placeholder/_2' with dtype int64 and shape [1]\n",
      "\t [[{{node Placeholder/_2}}]]\n",
      "2024-11-09 08:00:42.804839: I tensorflow/core/common_runtime/executor.cc:1197] [/device:CPU:0] (DEBUG INFO) Executor start aborting (this does not indicate an error and you can ignore this message): INVALID_ARGUMENT: You must feed a value for placeholder tensor 'Placeholder/_20' with dtype int64\n",
      "\t [[{{node Placeholder/_20}}]]\n"
     ]
    },
    {
     "name": "stdout",
     "output_type": "stream",
     "text": [
      "1/1 [==============================] - 1s 754ms/step\n",
      "1/1 [==============================] - 0s 52ms/step\n",
      "1/1 [==============================] - 0s 51ms/step\n"
     ]
    },
    {
     "name": "stderr",
     "output_type": "stream",
     "text": [
      "2024-11-09 08:00:43.604414: I tensorflow/core/common_runtime/executor.cc:1197] [/device:CPU:0] (DEBUG INFO) Executor start aborting (this does not indicate an error and you can ignore this message): INVALID_ARGUMENT: You must feed a value for placeholder tensor 'Placeholder/_20' with dtype int64\n",
      "\t [[{{node Placeholder/_20}}]]\n",
      "2024-11-09 08:00:43.604853: I tensorflow/core/common_runtime/executor.cc:1197] [/device:CPU:0] (DEBUG INFO) Executor start aborting (this does not indicate an error and you can ignore this message): INVALID_ARGUMENT: You must feed a value for placeholder tensor 'Placeholder/_19' with dtype string\n",
      "\t [[{{node Placeholder/_19}}]]\n",
      "2024-11-09 08:00:43.702052: I tensorflow/core/common_runtime/executor.cc:1197] [/device:CPU:0] (DEBUG INFO) Executor start aborting (this does not indicate an error and you can ignore this message): INVALID_ARGUMENT: You must feed a value for placeholder tensor 'Placeholder/_18' with dtype int64\n",
      "\t [[{{node Placeholder/_18}}]]\n",
      "2024-11-09 08:00:43.702420: I tensorflow/core/common_runtime/executor.cc:1197] [/device:CPU:0] (DEBUG INFO) Executor start aborting (this does not indicate an error and you can ignore this message): INVALID_ARGUMENT: You must feed a value for placeholder tensor 'Placeholder/_18' with dtype int64\n",
      "\t [[{{node Placeholder/_18}}]]\n",
      "2024-11-09 08:00:43.798564: I tensorflow/core/common_runtime/executor.cc:1197] [/device:CPU:0] (DEBUG INFO) Executor start aborting (this does not indicate an error and you can ignore this message): INVALID_ARGUMENT: You must feed a value for placeholder tensor 'Placeholder/_2' with dtype int64 and shape [1]\n",
      "\t [[{{node Placeholder/_2}}]]\n",
      "2024-11-09 08:00:43.799027: I tensorflow/core/common_runtime/executor.cc:1197] [/device:CPU:0] (DEBUG INFO) Executor start aborting (this does not indicate an error and you can ignore this message): INVALID_ARGUMENT: You must feed a value for placeholder tensor 'Placeholder/_0' with dtype string and shape [1]\n",
      "\t [[{{node Placeholder/_0}}]]\n"
     ]
    },
    {
     "name": "stdout",
     "output_type": "stream",
     "text": [
      "1/1 [==============================] - 0s 54ms/step\n",
      "1/1 [==============================] - 0s 64ms/step\n",
      "1/1 [==============================] - 0s 52ms/step\n"
     ]
    },
    {
     "name": "stderr",
     "output_type": "stream",
     "text": [
      "2024-11-09 08:00:43.905151: I tensorflow/core/common_runtime/executor.cc:1197] [/device:CPU:0] (DEBUG INFO) Executor start aborting (this does not indicate an error and you can ignore this message): INVALID_ARGUMENT: You must feed a value for placeholder tensor 'Placeholder/_2' with dtype int64 and shape [1]\n",
      "\t [[{{node Placeholder/_2}}]]\n",
      "2024-11-09 08:00:43.905849: I tensorflow/core/common_runtime/executor.cc:1197] [/device:CPU:0] (DEBUG INFO) Executor start aborting (this does not indicate an error and you can ignore this message): INVALID_ARGUMENT: You must feed a value for placeholder tensor 'Placeholder/_2' with dtype int64 and shape [1]\n",
      "\t [[{{node Placeholder/_2}}]]\n",
      "2024-11-09 08:00:44.013359: I tensorflow/core/common_runtime/executor.cc:1197] [/device:CPU:0] (DEBUG INFO) Executor start aborting (this does not indicate an error and you can ignore this message): INVALID_ARGUMENT: You must feed a value for placeholder tensor 'Placeholder/_1' with dtype int64 and shape [1,18]\n",
      "\t [[{{node Placeholder/_1}}]]\n",
      "2024-11-09 08:00:44.013773: I tensorflow/core/common_runtime/executor.cc:1197] [/device:CPU:0] (DEBUG INFO) Executor start aborting (this does not indicate an error and you can ignore this message): INVALID_ARGUMENT: You must feed a value for placeholder tensor 'Placeholder/_2' with dtype int64 and shape [1]\n",
      "\t [[{{node Placeholder/_2}}]]\n"
     ]
    },
    {
     "name": "stdout",
     "output_type": "stream",
     "text": [
      "1/1 [==============================] - 0s 53ms/step\n",
      "1/1 [==============================] - 0s 54ms/step\n"
     ]
    },
    {
     "name": "stderr",
     "output_type": "stream",
     "text": [
      "2024-11-09 08:00:44.110451: I tensorflow/core/common_runtime/executor.cc:1197] [/device:CPU:0] (DEBUG INFO) Executor start aborting (this does not indicate an error and you can ignore this message): INVALID_ARGUMENT: You must feed a value for placeholder tensor 'Placeholder/_20' with dtype int64\n",
      "\t [[{{node Placeholder/_20}}]]\n",
      "2024-11-09 08:00:44.110865: I tensorflow/core/common_runtime/executor.cc:1197] [/device:CPU:0] (DEBUG INFO) Executor start aborting (this does not indicate an error and you can ignore this message): INVALID_ARGUMENT: You must feed a value for placeholder tensor 'Placeholder/_17' with dtype resource\n",
      "\t [[{{node Placeholder/_17}}]]\n",
      "2024-11-09 08:00:44.209979: I tensorflow/core/common_runtime/executor.cc:1197] [/device:CPU:0] (DEBUG INFO) Executor start aborting (this does not indicate an error and you can ignore this message): INVALID_ARGUMENT: You must feed a value for placeholder tensor 'Placeholder/_17' with dtype resource\n",
      "\t [[{{node Placeholder/_17}}]]\n",
      "2024-11-09 08:00:44.210354: I tensorflow/core/common_runtime/executor.cc:1197] [/device:CPU:0] (DEBUG INFO) Executor start aborting (this does not indicate an error and you can ignore this message): INVALID_ARGUMENT: You must feed a value for placeholder tensor 'Placeholder/_17' with dtype resource\n",
      "\t [[{{node Placeholder/_17}}]]\n"
     ]
    },
    {
     "data": {
      "text/plain": [
       "['Safe',\n",
       " 'Malicious',\n",
       " 'Safe',\n",
       " 'Safe',\n",
       " 'Malicious',\n",
       " 'Malicious',\n",
       " 'Safe',\n",
       " 'Malicious']"
      ]
     },
     "execution_count": 4,
     "metadata": {},
     "output_type": "execute_result"
    }
   ],
   "source": [
    "links = [\"itunes.apple.com/gb/album/whb-bonus-track-version/id358709625\",\"http://45.231.210.144:47317/Mozi.m\",\"youtu.be\", \"www.google.com\", \"http://10.40.102.155:5009/get\", \"http://money.onion\", \"www.achnet.com\", \"https://colab.research.google.com/\"]\n",
    "Evaluation.make_prediction(model,1, Vectorize_Layer, links, 0.5)"
   ]
  },
  {
   "cell_type": "markdown",
   "id": "7O542kBtOaD4",
   "metadata": {
    "id": "7O542kBtOaD4"
   },
   "source": [
    "# Save the Model and Vocabulary of Vectorization Layer"
   ]
  },
  {
   "cell_type": "code",
   "execution_count": 5,
   "id": "HVnInwRHAUTV",
   "metadata": {
    "id": "HVnInwRHAUTV"
   },
   "outputs": [],
   "source": [
    "model.save(\"Trained_Model/Model/Model.keras\")"
   ]
  },
  {
   "cell_type": "code",
   "execution_count": 6,
   "id": "WF8isQvRD19r",
   "metadata": {
    "id": "WF8isQvRD19r"
   },
   "outputs": [],
   "source": [
    "import json\n",
    "vocab = Vectorize_Layer.get_vocabulary()\n",
    "with open(\"Trained_Model/Vectorization_Layer/vocab.json\", \"w\") as f:\n",
    "    json.dump(vocab, f)"
   ]
  },
  {
   "cell_type": "code",
   "execution_count": 7,
   "id": "1v57vcMsU3Aw",
   "metadata": {
    "id": "1v57vcMsU3Aw"
   },
   "outputs": [
    {
     "name": "stdout",
     "output_type": "stream",
     "text": [
      "64 50 5 100000\n"
     ]
    }
   ],
   "source": [
    "print(Batch_Size, Sequence_length, N_for_NGram, max_tokens)"
   ]
  },
  {
   "cell_type": "markdown",
   "id": "10j0p0jkOkn-",
   "metadata": {
    "id": "10j0p0jkOkn-"
   },
   "source": [
    "# Loading the Model and Vocabulary from Saved Model"
   ]
  },
  {
   "cell_type": "code",
   "execution_count": 1,
   "id": "405ccfa5",
   "metadata": {},
   "outputs": [
    {
     "name": "stderr",
     "output_type": "stream",
     "text": [
      "2024-11-10 08:36:20.967978: I tensorflow/tsl/cuda/cudart_stub.cc:28] Could not find cuda drivers on your machine, GPU will not be used.\n",
      "2024-11-10 08:36:23.571964: I tensorflow/tsl/cuda/cudart_stub.cc:28] Could not find cuda drivers on your machine, GPU will not be used.\n",
      "2024-11-10 08:36:23.574814: I tensorflow/core/platform/cpu_feature_guard.cc:182] This TensorFlow binary is optimized to use available CPU instructions in performance-critical operations.\n",
      "To enable the following instructions: AVX2 FMA, in other operations, rebuild TensorFlow with the appropriate compiler flags.\n",
      "2024-11-10 08:36:28.432821: W tensorflow/compiler/tf2tensorrt/utils/py_utils.cc:38] TF-TRT Warning: Could not find TensorRT\n"
     ]
    }
   ],
   "source": [
    "import pandas as pd\n",
    "import numpy as np\n",
    "import matplotlib.pyplot as plt\n",
    "import random\n",
    "import re\n",
    "import json\n",
    "import tensorflow as tf\n",
    "from nltk.util import ngrams\n",
    "import itertools\n",
    "from Utils import Evaluation\n",
    "from Utils import DataProcessing, FeatureCreation, Model"
   ]
  },
  {
   "cell_type": "code",
   "execution_count": 2,
   "id": "_cTTqzvQVFwJ",
   "metadata": {
    "id": "_cTTqzvQVFwJ"
   },
   "outputs": [
    {
     "name": "stderr",
     "output_type": "stream",
     "text": [
      "2024-11-10 08:36:46.541671: W tensorflow/tsl/framework/cpu_allocator_impl.cc:83] Allocation of 51200000 exceeds 10% of free system memory.\n",
      "2024-11-10 08:36:46.586931: W tensorflow/tsl/framework/cpu_allocator_impl.cc:83] Allocation of 51200000 exceeds 10% of free system memory.\n",
      "2024-11-10 08:36:46.597741: W tensorflow/tsl/framework/cpu_allocator_impl.cc:83] Allocation of 51200000 exceeds 10% of free system memory.\n",
      "2024-11-10 08:36:48.696278: W tensorflow/tsl/framework/cpu_allocator_impl.cc:83] Allocation of 51200000 exceeds 10% of free system memory.\n",
      "2024-11-10 08:36:48.755745: W tensorflow/tsl/framework/cpu_allocator_impl.cc:83] Allocation of 51200000 exceeds 10% of free system memory.\n"
     ]
    }
   ],
   "source": [
    "modell = tf.keras.models.load_model(\"Trained_Model/Model/Model.keras\")"
   ]
  },
  {
   "cell_type": "code",
   "execution_count": 3,
   "id": "bJz9uHjfUDZE",
   "metadata": {
    "id": "bJz9uHjfUDZE"
   },
   "outputs": [],
   "source": [
    "# Batch_Size = 16 * strategy.num_replicas_in_sync\n",
    "Batch_Size = 64\n",
    "max_tokens = 100000\n",
    "N_for_NGram = 5\n",
    "Sequence_length = 50\n",
    "with open(\"Trained_Model/Vectorization_Layer/vocab.json\", \"r\") as f:\n",
    "    vocab = json.load(f)\n",
    "VL = tf.keras.layers.TextVectorization(standardize='lower',\n",
    "                                                   split=\"character\",\n",
    "                                                   ngrams=(N_for_NGram,),\n",
    "                                                   output_mode='int',\n",
    "                                                   output_sequence_length=Sequence_length,\n",
    "                                                   vocabulary=vocab)"
   ]
  },
  {
   "cell_type": "code",
   "execution_count": 4,
   "id": "UPolGWCQVebN",
   "metadata": {
    "colab": {
     "base_uri": "https://localhost:8080/"
    },
    "id": "UPolGWCQVebN",
    "outputId": "eb8d0b42-275d-4bab-b040-9a32d7d923c3"
   },
   "outputs": [
    {
     "name": "stderr",
     "output_type": "stream",
     "text": [
      "2024-11-10 08:36:52.050142: I tensorflow/core/common_runtime/executor.cc:1197] [/device:CPU:0] (DEBUG INFO) Executor start aborting (this does not indicate an error and you can ignore this message): INVALID_ARGUMENT: You must feed a value for placeholder tensor 'Placeholder/_19' with dtype string\n",
      "\t [[{{node Placeholder/_19}}]]\n",
      "2024-11-10 08:36:52.050987: I tensorflow/core/common_runtime/executor.cc:1197] [/device:CPU:0] (DEBUG INFO) Executor start aborting (this does not indicate an error and you can ignore this message): INVALID_ARGUMENT: You must feed a value for placeholder tensor 'Placeholder/_18' with dtype int64\n",
      "\t [[{{node Placeholder/_18}}]]\n"
     ]
    },
    {
     "name": "stdout",
     "output_type": "stream",
     "text": [
      "1/1 [==============================] - 1s 1s/step\n",
      "1/1 [==============================] - 0s 64ms/step\n"
     ]
    },
    {
     "name": "stderr",
     "output_type": "stream",
     "text": [
      "2024-11-10 08:36:53.469437: I tensorflow/core/common_runtime/executor.cc:1197] [/device:CPU:0] (DEBUG INFO) Executor start aborting (this does not indicate an error and you can ignore this message): INVALID_ARGUMENT: You must feed a value for placeholder tensor 'Placeholder/_19' with dtype string\n",
      "\t [[{{node Placeholder/_19}}]]\n",
      "2024-11-10 08:36:53.470169: I tensorflow/core/common_runtime/executor.cc:1197] [/device:CPU:0] (DEBUG INFO) Executor start aborting (this does not indicate an error and you can ignore this message): INVALID_ARGUMENT: You must feed a value for placeholder tensor 'Placeholder/_2' with dtype int64 and shape [1]\n",
      "\t [[{{node Placeholder/_2}}]]\n",
      "2024-11-10 08:36:53.646203: I tensorflow/core/common_runtime/executor.cc:1197] [/device:CPU:0] (DEBUG INFO) Executor start aborting (this does not indicate an error and you can ignore this message): INVALID_ARGUMENT: You must feed a value for placeholder tensor 'Placeholder/_17' with dtype resource\n",
      "\t [[{{node Placeholder/_17}}]]\n",
      "2024-11-10 08:36:53.646677: I tensorflow/core/common_runtime/executor.cc:1197] [/device:CPU:0] (DEBUG INFO) Executor start aborting (this does not indicate an error and you can ignore this message): INVALID_ARGUMENT: You must feed a value for placeholder tensor 'Placeholder/_1' with dtype int64 and shape [1,18]\n",
      "\t [[{{node Placeholder/_1}}]]\n"
     ]
    },
    {
     "name": "stdout",
     "output_type": "stream",
     "text": [
      "1/1 [==============================] - 0s 65ms/step\n",
      "1/1 [==============================] - 0s 69ms/step\n"
     ]
    },
    {
     "name": "stderr",
     "output_type": "stream",
     "text": [
      "2024-11-10 08:36:53.813958: I tensorflow/core/common_runtime/executor.cc:1197] [/device:CPU:0] (DEBUG INFO) Executor start aborting (this does not indicate an error and you can ignore this message): INVALID_ARGUMENT: You must feed a value for placeholder tensor 'Placeholder/_17' with dtype resource\n",
      "\t [[{{node Placeholder/_17}}]]\n",
      "2024-11-10 08:36:53.814459: I tensorflow/core/common_runtime/executor.cc:1197] [/device:CPU:0] (DEBUG INFO) Executor start aborting (this does not indicate an error and you can ignore this message): INVALID_ARGUMENT: You must feed a value for placeholder tensor 'Placeholder/_19' with dtype string\n",
      "\t [[{{node Placeholder/_19}}]]\n",
      "2024-11-10 08:36:54.006123: I tensorflow/core/common_runtime/executor.cc:1197] [/device:CPU:0] (DEBUG INFO) Executor start aborting (this does not indicate an error and you can ignore this message): INVALID_ARGUMENT: You must feed a value for placeholder tensor 'Placeholder/_19' with dtype string\n",
      "\t [[{{node Placeholder/_19}}]]\n",
      "2024-11-10 08:36:54.006737: I tensorflow/core/common_runtime/executor.cc:1197] [/device:CPU:0] (DEBUG INFO) Executor start aborting (this does not indicate an error and you can ignore this message): INVALID_ARGUMENT: You must feed a value for placeholder tensor 'Placeholder/_2' with dtype int64 and shape [1]\n",
      "\t [[{{node Placeholder/_2}}]]\n"
     ]
    },
    {
     "name": "stdout",
     "output_type": "stream",
     "text": [
      "1/1 [==============================] - 0s 72ms/step\n"
     ]
    },
    {
     "data": {
      "text/plain": [
       "['Safe', 'Malicious', 'Safe', 'Safe', 'Malicious']"
      ]
     },
     "execution_count": 4,
     "metadata": {},
     "output_type": "execute_result"
    }
   ],
   "source": [
    "links = [\"itunes.apple.com/gb/album/whb-bonus-track-version/id358709625\",\"http://45.231.210.144:47317/Mozi.m\",\"youtu.be\",\n",
    "          \"www.google.com\", \"http://10.40.102.155:5009/get\"]\n",
    "Evaluation.make_prediction(modell,Batch_Size, VL, links, 0.5)"
   ]
  },
  {
   "cell_type": "markdown",
   "id": "d0f89b16",
   "metadata": {},
   "source": []
  },
  {
   "cell_type": "markdown",
   "id": "106803f0",
   "metadata": {},
   "source": []
  },
  {
   "cell_type": "code",
   "execution_count": null,
   "id": "eRQitw4XthAF",
   "metadata": {
    "id": "eRQitw4XthAF"
   },
   "outputs": [],
   "source": []
  }
 ],
 "metadata": {
  "accelerator": "TPU",
  "colab": {
   "provenance": []
  },
  "kernelspec": {
   "display_name": "Python 3",
   "name": "python3"
  },
  "language_info": {
   "codemirror_mode": {
    "name": "ipython",
    "version": 3
   },
   "file_extension": ".py",
   "mimetype": "text/x-python",
   "name": "python",
   "nbconvert_exporter": "python",
   "pygments_lexer": "ipython3",
   "version": "3.10.15"
  }
 },
 "nbformat": 4,
 "nbformat_minor": 5
}

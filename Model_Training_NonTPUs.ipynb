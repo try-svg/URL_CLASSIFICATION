{
 "cells": [
  {
   "cell_type": "markdown",
   "id": "k8JiFmXgwGNN",
   "metadata": {
    "id": "k8JiFmXgwGNN"
   },
   "source": [
    "# Train and Check accuracy on 20% test data"
   ]
  },
  {
   "cell_type": "code",
   "execution_count": 20,
   "id": "9e609a17",
   "metadata": {},
   "outputs": [
    {
     "name": "stdout",
     "output_type": "stream",
     "text": [
      "Requirement already satisfied: numpy==1.23.5 in ./.conda/lib/python3.10/site-packages (from -r requirements.txt (line 1)) (1.23.5)\n",
      "Requirement already satisfied: pandas==1.5.3 in ./.conda/lib/python3.10/site-packages (from -r requirements.txt (line 2)) (1.5.3)\n",
      "Requirement already satisfied: scikit_learn==1.2.2 in ./.conda/lib/python3.10/site-packages (from -r requirements.txt (line 3)) (1.2.2)\n",
      "Requirement already satisfied: tensorflow==2.12.0 in ./.conda/lib/python3.10/site-packages (from -r requirements.txt (line 4)) (2.12.0)\n",
      "Requirement already satisfied: nltk==3.8.1 in ./.conda/lib/python3.10/site-packages (from -r requirements.txt (line 5)) (3.8.1)\n",
      "Requirement already satisfied: python-dateutil>=2.8.1 in ./.conda/lib/python3.10/site-packages (from pandas==1.5.3->-r requirements.txt (line 2)) (2.9.0)\n",
      "Requirement already satisfied: pytz>=2020.1 in ./.conda/lib/python3.10/site-packages (from pandas==1.5.3->-r requirements.txt (line 2)) (2024.2)\n",
      "Requirement already satisfied: scipy>=1.3.2 in ./.conda/lib/python3.10/site-packages (from scikit_learn==1.2.2->-r requirements.txt (line 3)) (1.14.1)\n",
      "Requirement already satisfied: joblib>=1.1.1 in ./.conda/lib/python3.10/site-packages (from scikit_learn==1.2.2->-r requirements.txt (line 3)) (1.4.2)\n",
      "Requirement already satisfied: threadpoolctl>=2.0.0 in ./.conda/lib/python3.10/site-packages (from scikit_learn==1.2.2->-r requirements.txt (line 3)) (3.5.0)\n",
      "Requirement already satisfied: absl-py>=1.0.0 in ./.conda/lib/python3.10/site-packages (from tensorflow==2.12.0->-r requirements.txt (line 4)) (2.1.0)\n",
      "Requirement already satisfied: astunparse>=1.6.0 in ./.conda/lib/python3.10/site-packages (from tensorflow==2.12.0->-r requirements.txt (line 4)) (1.6.3)\n",
      "Requirement already satisfied: flatbuffers>=2.0 in ./.conda/lib/python3.10/site-packages (from tensorflow==2.12.0->-r requirements.txt (line 4)) (24.3.25)\n",
      "Requirement already satisfied: gast<=0.4.0,>=0.2.1 in ./.conda/lib/python3.10/site-packages (from tensorflow==2.12.0->-r requirements.txt (line 4)) (0.4.0)\n",
      "Requirement already satisfied: google-pasta>=0.1.1 in ./.conda/lib/python3.10/site-packages (from tensorflow==2.12.0->-r requirements.txt (line 4)) (0.2.0)\n",
      "Requirement already satisfied: grpcio<2.0,>=1.24.3 in ./.conda/lib/python3.10/site-packages (from tensorflow==2.12.0->-r requirements.txt (line 4)) (1.67.1)\n",
      "Requirement already satisfied: h5py>=2.9.0 in ./.conda/lib/python3.10/site-packages (from tensorflow==2.12.0->-r requirements.txt (line 4)) (3.12.1)\n",
      "Requirement already satisfied: jax>=0.3.15 in ./.conda/lib/python3.10/site-packages (from tensorflow==2.12.0->-r requirements.txt (line 4)) (0.4.30)\n",
      "Requirement already satisfied: keras<2.13,>=2.12.0 in ./.conda/lib/python3.10/site-packages (from tensorflow==2.12.0->-r requirements.txt (line 4)) (2.12.0)\n",
      "Requirement already satisfied: libclang>=13.0.0 in ./.conda/lib/python3.10/site-packages (from tensorflow==2.12.0->-r requirements.txt (line 4)) (18.1.1)\n",
      "Requirement already satisfied: opt-einsum>=2.3.2 in ./.conda/lib/python3.10/site-packages (from tensorflow==2.12.0->-r requirements.txt (line 4)) (3.4.0)\n",
      "Requirement already satisfied: packaging in ./.conda/lib/python3.10/site-packages (from tensorflow==2.12.0->-r requirements.txt (line 4)) (24.1)\n",
      "Requirement already satisfied: protobuf!=4.21.0,!=4.21.1,!=4.21.2,!=4.21.3,!=4.21.4,!=4.21.5,<5.0.0dev,>=3.20.3 in ./.conda/lib/python3.10/site-packages (from tensorflow==2.12.0->-r requirements.txt (line 4)) (4.21.12)\n",
      "Requirement already satisfied: setuptools in ./.conda/lib/python3.10/site-packages (from tensorflow==2.12.0->-r requirements.txt (line 4)) (75.1.0)\n",
      "Requirement already satisfied: six>=1.12.0 in ./.conda/lib/python3.10/site-packages (from tensorflow==2.12.0->-r requirements.txt (line 4)) (1.16.0)\n",
      "Requirement already satisfied: tensorboard<2.13,>=2.12 in ./.conda/lib/python3.10/site-packages (from tensorflow==2.12.0->-r requirements.txt (line 4)) (2.12.3)\n",
      "Requirement already satisfied: tensorflow-estimator<2.13,>=2.12.0 in ./.conda/lib/python3.10/site-packages (from tensorflow==2.12.0->-r requirements.txt (line 4)) (2.12.0)\n",
      "Requirement already satisfied: termcolor>=1.1.0 in ./.conda/lib/python3.10/site-packages (from tensorflow==2.12.0->-r requirements.txt (line 4)) (2.5.0)\n",
      "Requirement already satisfied: typing-extensions>=3.6.6 in ./.conda/lib/python3.10/site-packages (from tensorflow==2.12.0->-r requirements.txt (line 4)) (4.12.2)\n",
      "Requirement already satisfied: wrapt<1.15,>=1.11.0 in ./.conda/lib/python3.10/site-packages (from tensorflow==2.12.0->-r requirements.txt (line 4)) (1.14.1)\n",
      "Requirement already satisfied: tensorflow-io-gcs-filesystem>=0.23.1 in ./.conda/lib/python3.10/site-packages (from tensorflow==2.12.0->-r requirements.txt (line 4)) (0.37.1)\n",
      "Requirement already satisfied: click in ./.conda/lib/python3.10/site-packages (from nltk==3.8.1->-r requirements.txt (line 5)) (8.1.7)\n",
      "Requirement already satisfied: regex>=2021.8.3 in ./.conda/lib/python3.10/site-packages (from nltk==3.8.1->-r requirements.txt (line 5)) (2024.11.6)\n",
      "Requirement already satisfied: tqdm in ./.conda/lib/python3.10/site-packages (from nltk==3.8.1->-r requirements.txt (line 5)) (4.67.0)\n",
      "Requirement already satisfied: wheel<1.0,>=0.23.0 in ./.conda/lib/python3.10/site-packages (from astunparse>=1.6.0->tensorflow==2.12.0->-r requirements.txt (line 4)) (0.44.0)\n",
      "Requirement already satisfied: jaxlib<=0.4.30,>=0.4.27 in ./.conda/lib/python3.10/site-packages (from jax>=0.3.15->tensorflow==2.12.0->-r requirements.txt (line 4)) (0.4.30)\n",
      "Requirement already satisfied: ml-dtypes>=0.2.0 in ./.conda/lib/python3.10/site-packages (from jax>=0.3.15->tensorflow==2.12.0->-r requirements.txt (line 4)) (0.5.0)\n",
      "Requirement already satisfied: google-auth<3,>=1.6.3 in ./.conda/lib/python3.10/site-packages (from tensorboard<2.13,>=2.12->tensorflow==2.12.0->-r requirements.txt (line 4)) (2.36.0)\n",
      "Requirement already satisfied: google-auth-oauthlib<1.1,>=0.5 in ./.conda/lib/python3.10/site-packages (from tensorboard<2.13,>=2.12->tensorflow==2.12.0->-r requirements.txt (line 4)) (1.0.0)\n",
      "Requirement already satisfied: markdown>=2.6.8 in ./.conda/lib/python3.10/site-packages (from tensorboard<2.13,>=2.12->tensorflow==2.12.0->-r requirements.txt (line 4)) (3.7)\n",
      "Requirement already satisfied: requests<3,>=2.21.0 in ./.conda/lib/python3.10/site-packages (from tensorboard<2.13,>=2.12->tensorflow==2.12.0->-r requirements.txt (line 4)) (2.32.3)\n",
      "Requirement already satisfied: tensorboard-data-server<0.8.0,>=0.7.0 in ./.conda/lib/python3.10/site-packages (from tensorboard<2.13,>=2.12->tensorflow==2.12.0->-r requirements.txt (line 4)) (0.7.2)\n",
      "Requirement already satisfied: werkzeug>=1.0.1 in ./.conda/lib/python3.10/site-packages (from tensorboard<2.13,>=2.12->tensorflow==2.12.0->-r requirements.txt (line 4)) (3.1.3)\n",
      "Requirement already satisfied: cachetools<6.0,>=2.0.0 in ./.conda/lib/python3.10/site-packages (from google-auth<3,>=1.6.3->tensorboard<2.13,>=2.12->tensorflow==2.12.0->-r requirements.txt (line 4)) (5.5.0)\n",
      "Requirement already satisfied: pyasn1-modules>=0.2.1 in ./.conda/lib/python3.10/site-packages (from google-auth<3,>=1.6.3->tensorboard<2.13,>=2.12->tensorflow==2.12.0->-r requirements.txt (line 4)) (0.4.1)\n",
      "Requirement already satisfied: rsa<5,>=3.1.4 in ./.conda/lib/python3.10/site-packages (from google-auth<3,>=1.6.3->tensorboard<2.13,>=2.12->tensorflow==2.12.0->-r requirements.txt (line 4)) (4.9)\n",
      "Requirement already satisfied: requests-oauthlib>=0.7.0 in ./.conda/lib/python3.10/site-packages (from google-auth-oauthlib<1.1,>=0.5->tensorboard<2.13,>=2.12->tensorflow==2.12.0->-r requirements.txt (line 4)) (2.0.0)\n",
      "Requirement already satisfied: charset-normalizer<4,>=2 in ./.conda/lib/python3.10/site-packages (from requests<3,>=2.21.0->tensorboard<2.13,>=2.12->tensorflow==2.12.0->-r requirements.txt (line 4)) (3.4.0)\n",
      "Requirement already satisfied: idna<4,>=2.5 in ./.conda/lib/python3.10/site-packages (from requests<3,>=2.21.0->tensorboard<2.13,>=2.12->tensorflow==2.12.0->-r requirements.txt (line 4)) (3.10)\n",
      "Requirement already satisfied: urllib3<3,>=1.21.1 in ./.conda/lib/python3.10/site-packages (from requests<3,>=2.21.0->tensorboard<2.13,>=2.12->tensorflow==2.12.0->-r requirements.txt (line 4)) (2.2.3)\n",
      "Requirement already satisfied: certifi>=2017.4.17 in ./.conda/lib/python3.10/site-packages (from requests<3,>=2.21.0->tensorboard<2.13,>=2.12->tensorflow==2.12.0->-r requirements.txt (line 4)) (2024.8.30)\n",
      "Requirement already satisfied: MarkupSafe>=2.1.1 in ./.conda/lib/python3.10/site-packages (from werkzeug>=1.0.1->tensorboard<2.13,>=2.12->tensorflow==2.12.0->-r requirements.txt (line 4)) (2.1.5)\n",
      "Requirement already satisfied: pyasn1<0.7.0,>=0.4.6 in ./.conda/lib/python3.10/site-packages (from pyasn1-modules>=0.2.1->google-auth<3,>=1.6.3->tensorboard<2.13,>=2.12->tensorflow==2.12.0->-r requirements.txt (line 4)) (0.6.1)\n",
      "Requirement already satisfied: oauthlib>=3.0.0 in ./.conda/lib/python3.10/site-packages (from requests-oauthlib>=0.7.0->google-auth-oauthlib<1.1,>=0.5->tensorboard<2.13,>=2.12->tensorflow==2.12.0->-r requirements.txt (line 4)) (3.2.2)\n",
      "Note: you may need to restart the kernel to use updated packages.\n"
     ]
    }
   ],
   "source": [
    "%pip install -r requirements.txt"
   ]
  },
  {
   "cell_type": "code",
   "execution_count": 2,
   "id": "f58a00ff",
   "metadata": {
    "id": "f58a00ff"
   },
   "outputs": [
    {
     "name": "stderr",
     "output_type": "stream",
     "text": [
      "2024-11-09 22:39:04.209724: I tensorflow/tsl/cuda/cudart_stub.cc:28] Could not find cuda drivers on your machine, GPU will not be used.\n",
      "2024-11-09 22:39:04.683118: I tensorflow/tsl/cuda/cudart_stub.cc:28] Could not find cuda drivers on your machine, GPU will not be used.\n",
      "2024-11-09 22:39:04.684873: I tensorflow/core/platform/cpu_feature_guard.cc:182] This TensorFlow binary is optimized to use available CPU instructions in performance-critical operations.\n",
      "To enable the following instructions: AVX2 FMA, in other operations, rebuild TensorFlow with the appropriate compiler flags.\n",
      "2024-11-09 22:39:06.389214: W tensorflow/compiler/tf2tensorrt/utils/py_utils.cc:38] TF-TRT Warning: Could not find TensorRT\n"
     ]
    }
   ],
   "source": [
    "import sys\n",
    "# sys.path.append(\"/content/drive/MyDrive/URL_Checker\")  # this appends the parent directory to the sys.path list\n",
    "import pandas as pd\n",
    "import numpy as np\n",
    "import matplotlib.pyplot as plt\n",
    "import random\n",
    "import re\n",
    "import json\n",
    "import tensorflow as tf\n",
    "from nltk.util import ngrams\n",
    "import itertools\n",
    "from Utils import Evaluation\n",
    "from Utils import DataProcessing, FeatureCreation, Model\n",
    "N_for_NGram = 5\n",
    "Sequence_length = 50\n",
    "epochs = 10\n",
    "n_classes = 2"
   ]
  },
  {
   "cell_type": "code",
   "execution_count": 2,
   "id": "9eaa2e0f",
   "metadata": {
    "id": "9eaa2e0f"
   },
   "outputs": [],
   "source": [
    "from sklearn.model_selection import train_test_split\n",
    "df1 = pd.read_csv(\"dataset/df_final.csv\")\n",
    "df2 = pd.read_csv(\"dataset/all_top_domains_merged.csv\")\n",
    "test_df = pd.read_csv(\"dataset/df_another_validation.csv\")\n",
    "url_dataframe = pd.concat([df1,df2], axis=0)\n",
    "url_dataframe = url_dataframe.sample(frac=1).reset_index(drop=True)\n",
    "url_dataframe = url_dataframe.drop_duplicates()\n",
    "url_dataframe = url_dataframe.dropna().reset_index(drop=True)"
   ]
  },
  {
   "cell_type": "code",
   "execution_count": 3,
   "id": "5ade05ed",
   "metadata": {
    "id": "5ade05ed"
   },
   "outputs": [],
   "source": [
    "train_df, val_df = train_test_split(url_dataframe, test_size=0.20, stratify=url_dataframe['type'])\n",
    "# train_df, val_df = train_test_split(train_df, test_size=0.20, stratify=train_df['type'])"
   ]
  },
  {
   "cell_type": "code",
   "execution_count": 4,
   "id": "68bc2e77",
   "metadata": {
    "id": "68bc2e77",
    "scrolled": false
   },
   "outputs": [
    {
     "name": "stderr",
     "output_type": "stream",
     "text": [
      "2024-11-09 16:37:28.689917: W tensorflow/tsl/framework/cpu_allocator_impl.cc:83] Allocation of 89285904 exceeds 10% of free system memory.\n",
      "2024-11-09 16:37:28.815515: W tensorflow/tsl/framework/cpu_allocator_impl.cc:83] Allocation of 89285904 exceeds 10% of free system memory.\n",
      "2024-11-09 16:37:28.845333: I tensorflow/core/common_runtime/executor.cc:1197] [/device:CPU:0] (DEBUG INFO) Executor start aborting (this does not indicate an error and you can ignore this message): INVALID_ARGUMENT: You must feed a value for placeholder tensor 'Placeholder/_2' with dtype int64 and shape [620041]\n",
      "\t [[{{node Placeholder/_2}}]]\n",
      "2024-11-09 16:37:44.570819: W tensorflow/tsl/framework/cpu_allocator_impl.cc:83] Allocation of 69902040 exceeds 10% of free system memory.\n",
      "2024-11-09 16:37:48.490509: W tensorflow/tsl/framework/cpu_allocator_impl.cc:83] Allocation of 69902040 exceeds 10% of free system memory.\n"
     ]
    }
   ],
   "source": [
    "Batch_Size = 64\n",
    "# Batch_Size = 128\n",
    "max_tokens = 100000\n",
    "# with strategy.scope():\n",
    "train_ds = DataProcessing.process_train_data(train_df,Batch_Size)\n",
    "Vectorize_Layer = tf.keras.layers.TextVectorization(standardize='lower',\n",
    "                                                    split=\"character\",\n",
    "                                                    ngrams=(N_for_NGram,),\n",
    "                                                    output_mode='int',\n",
    "                                                    max_tokens = max_tokens,\n",
    "                                                    output_sequence_length=Sequence_length)\n",
    "# Make a text-only dataset (without labels), then call adapt\n",
    "train_text = train_ds.map(lambda x,z: x[0])\n",
    "Vectorize_Layer.adapt(train_text)\n",
    "train_ds = train_ds.map(lambda x, z: DataProcessing.vectorize_text(x[0],x[1],z,Vectorize_Layer))\n",
    "train_ds = train_ds.cache().prefetch(buffer_size=tf.data.AUTOTUNE)"
   ]
  },
  {
   "cell_type": "code",
   "execution_count": 5,
   "id": "ff7e49bd",
   "metadata": {
    "id": "ff7e49bd"
   },
   "outputs": [
    {
     "name": "stderr",
     "output_type": "stream",
     "text": [
      "2024-11-09 16:38:19.013404: W tensorflow/tsl/framework/cpu_allocator_impl.cc:83] Allocation of 71901648 exceeds 10% of free system memory.\n"
     ]
    }
   ],
   "source": [
    "# with strategy.scope():\n",
    "val_ds = DataProcessing.process_data(val_df,Batch_Size,Vectorize_Layer)\n",
    "test_ds = DataProcessing.process_data(test_df,Batch_Size,Vectorize_Layer)"
   ]
  },
  {
   "cell_type": "code",
   "execution_count": 6,
   "id": "8004fd9c",
   "metadata": {},
   "outputs": [
    {
     "data": {
      "text/plain": [
       "100000"
      ]
     },
     "execution_count": 6,
     "metadata": {},
     "output_type": "execute_result"
    }
   ],
   "source": [
    "len(Vectorize_Layer.get_vocabulary())"
   ]
  },
  {
   "cell_type": "code",
   "execution_count": 7,
   "id": "cd8a8373",
   "metadata": {
    "colab": {
     "base_uri": "https://localhost:8080/"
    },
    "id": "cd8a8373",
    "outputId": "bed313e1-01ef-4711-a4ed-cd6cef672402"
   },
   "outputs": [
    {
     "name": "stdout",
     "output_type": "stream",
     "text": [
      "Model: \"model_2\"\n",
      "__________________________________________________________________________________________________\n",
      " Layer (type)                   Output Shape         Param #     Connected to                     \n",
      "==================================================================================================\n",
      " input_2 (InputLayer)           [(None, 18)]         0           []                               \n",
      "                                                                                                  \n",
      " dense (Dense)                  (None, 128)          2432        ['input_2[0][0]']                \n",
      "                                                                                                  \n",
      " dropout_3 (Dropout)            (None, 128)          0           ['dense[0][0]']                  \n",
      "                                                                                                  \n",
      " dense_1 (Dense)                (None, 256)          33024       ['dropout_3[0][0]']              \n",
      "                                                                                                  \n",
      " dropout_4 (Dropout)            (None, 256)          0           ['dense_1[0][0]']                \n",
      "                                                                                                  \n",
      " input_1 (InputLayer)           [(None, 50)]         0           []                               \n",
      "                                                                                                  \n",
      " dense_2 (Dense)                (None, 512)          131584      ['dropout_4[0][0]']              \n",
      "                                                                                                  \n",
      " embedding (Embedding)          (None, 50, 128)      12800000    ['input_1[0][0]']                \n",
      "                                                                                                  \n",
      " dropout_5 (Dropout)            (None, 512)          0           ['dense_2[0][0]']                \n",
      "                                                                                                  \n",
      " gru (GRU)                      (None, 50, 128)      99072       ['embedding[0][0]']              \n",
      "                                                                                                  \n",
      " dense_3 (Dense)                (None, 512)          262656      ['dropout_5[0][0]']              \n",
      "                                                                                                  \n",
      " dropout (Dropout)              (None, 50, 128)      0           ['gru[0][0]']                    \n",
      "                                                                                                  \n",
      " dropout_6 (Dropout)            (None, 512)          0           ['dense_3[0][0]']                \n",
      "                                                                                                  \n",
      " gru_1 (GRU)                    (None, 50, 128)      99072       ['dropout[0][0]']                \n",
      "                                                                                                  \n",
      " dense_4 (Dense)                (None, 256)          131328      ['dropout_6[0][0]']              \n",
      "                                                                                                  \n",
      " dropout_1 (Dropout)            (None, 50, 128)      0           ['gru_1[0][0]']                  \n",
      "                                                                                                  \n",
      " dropout_7 (Dropout)            (None, 256)          0           ['dense_4[0][0]']                \n",
      "                                                                                                  \n",
      " gru_2 (GRU)                    (None, 128)          99072       ['dropout_1[0][0]']              \n",
      "                                                                                                  \n",
      " dense_5 (Dense)                (None, 128)          32896       ['dropout_7[0][0]']              \n",
      "                                                                                                  \n",
      " dropout_2 (Dropout)            (None, 128)          0           ['gru_2[0][0]']                  \n",
      "                                                                                                  \n",
      " dropout_8 (Dropout)            (None, 128)          0           ['dense_5[0][0]']                \n",
      "                                                                                                  \n",
      " concatenate (Concatenate)      (None, 256)          0           ['dropout_2[0][0]',              \n",
      "                                                                  'dropout_8[0][0]']              \n",
      "                                                                                                  \n",
      " dense_6 (Dense)                (None, 64)           16448       ['concatenate[0][0]']            \n",
      "                                                                                                  \n",
      " dropout_9 (Dropout)            (None, 64)           0           ['dense_6[0][0]']                \n",
      "                                                                                                  \n",
      " dense_7 (Dense)                (None, 1)            65          ['dropout_9[0][0]']              \n",
      "                                                                                                  \n",
      "==================================================================================================\n",
      "Total params: 13,707,649\n",
      "Trainable params: 13,707,649\n",
      "Non-trainable params: 0\n",
      "__________________________________________________________________________________________________\n",
      "None\n"
     ]
    }
   ],
   "source": [
    "# with strategy.scope():\n",
    "model = Model.create_model(Sequence_length, max_tokens, 18)\n",
    "print(model.summary())\n",
    "model.compile(loss='binary_crossentropy', optimizer='adam', metrics=['accuracy'])"
   ]
  },
  {
   "cell_type": "code",
   "execution_count": null,
   "id": "vteRUJSK-iff",
   "metadata": {
    "colab": {
     "base_uri": "https://localhost:8080/"
    },
    "id": "vteRUJSK-iff",
    "outputId": "6a02264c-e986-4d65-e682-6287dc3d1923"
   },
   "outputs": [
    {
     "name": "stdout",
     "output_type": "stream",
     "text": [
      "Epoch 1/10\n"
     ]
    },
    {
     "name": "stderr",
     "output_type": "stream",
     "text": [
      "2024-11-09 16:38:30.790787: I tensorflow/core/common_runtime/executor.cc:1197] [/device:CPU:0] (DEBUG INFO) Executor start aborting (this does not indicate an error and you can ignore this message): INVALID_ARGUMENT: You must feed a value for placeholder tensor 'Placeholder/_7' with dtype resource\n",
      "\t [[{{node Placeholder/_7}}]]\n"
     ]
    },
    {
     "name": "stdout",
     "output_type": "stream",
     "text": [
      "9689/9689 [==============================] - ETA: 0s - loss: 0.0691 - accuracy: 0.9752"
     ]
    },
    {
     "name": "stderr",
     "output_type": "stream",
     "text": [
      "2024-11-09 17:12:14.140716: I tensorflow/core/common_runtime/executor.cc:1197] [/device:CPU:0] (DEBUG INFO) Executor start aborting (this does not indicate an error and you can ignore this message): INVALID_ARGUMENT: You must feed a value for placeholder tensor 'Placeholder/_17' with dtype resource\n",
      "\t [[{{node Placeholder/_17}}]]\n",
      "2024-11-09 17:12:14.141205: I tensorflow/core/common_runtime/executor.cc:1197] [/device:CPU:0] (DEBUG INFO) Executor start aborting (this does not indicate an error and you can ignore this message): INVALID_ARGUMENT: You must feed a value for placeholder tensor 'Placeholder/_2' with dtype int64 and shape [156346]\n",
      "\t [[{{node Placeholder/_2}}]]\n"
     ]
    },
    {
     "name": "stdout",
     "output_type": "stream",
     "text": [
      "9689/9689 [==============================] - 2084s 214ms/step - loss: 0.0691 - accuracy: 0.9752 - val_loss: 0.0421 - val_accuracy: 0.9849\n",
      "Epoch 2/10\n",
      "9689/9689 [==============================] - 2059s 212ms/step - loss: 0.0276 - accuracy: 0.9904 - val_loss: 0.0457 - val_accuracy: 0.9844\n",
      "Epoch 3/10\n",
      "9689/9689 [==============================] - 2078s 214ms/step - loss: 0.0139 - accuracy: 0.9955 - val_loss: 0.0699 - val_accuracy: 0.9815\n",
      "Epoch 4/10\n",
      "9689/9689 [==============================] - 2091s 216ms/step - loss: 0.0078 - accuracy: 0.9976 - val_loss: 0.0759 - val_accuracy: 0.9805\n",
      "Epoch 5/10\n",
      "9689/9689 [==============================] - 2084s 215ms/step - loss: 0.0060 - accuracy: 0.9982 - val_loss: 0.0957 - val_accuracy: 0.9798\n",
      "Epoch 6/10\n",
      "9689/9689 [==============================] - 2069s 214ms/step - loss: 0.0047 - accuracy: 0.9985 - val_loss: 0.0939 - val_accuracy: 0.9803\n",
      "Epoch 7/10\n",
      "9689/9689 [==============================] - 2071s 214ms/step - loss: 0.0038 - accuracy: 0.9987 - val_loss: 0.1052 - val_accuracy: 0.9790\n",
      "Epoch 8/10\n",
      "9689/9689 [==============================] - 2074s 214ms/step - loss: 0.0042 - accuracy: 0.9987 - val_loss: 0.0862 - val_accuracy: 0.9817\n",
      "Epoch 9/10\n",
      "9689/9689 [==============================] - ETA: 0s - loss: 0.0038 - accuracy: 0.9988"
     ]
    }
   ],
   "source": [
    "history = model.fit(\n",
    "    train_ds,\n",
    "    epochs=epochs,\n",
    "    batch_size=Batch_Size,\n",
    "    validation_data=val_ds)"
   ]
  },
  {
   "cell_type": "code",
   "execution_count": 1,
   "id": "7nQdN_YB-ogv",
   "metadata": {
    "colab": {
     "base_uri": "https://localhost:8080/"
    },
    "id": "7nQdN_YB-ogv",
    "outputId": "de7e7c7e-36cf-4522-9de0-ec24cc148f52"
   },
   "outputs": [
    {
     "ename": "NameError",
     "evalue": "name 'Evaluation' is not defined",
     "output_type": "error",
     "traceback": [
      "\u001b[0;31m---------------------------------------------------------------------------\u001b[0m",
      "\u001b[0;31mNameError\u001b[0m                                 Traceback (most recent call last)",
      "Cell \u001b[0;32mIn[1], line 1\u001b[0m\n\u001b[0;32m----> 1\u001b[0m result \u001b[38;5;241m=\u001b[39m \u001b[43mEvaluation\u001b[49m\u001b[38;5;241m.\u001b[39mevaluate_model(model, test_ds, \u001b[38;5;241m0.5\u001b[39m)\n",
      "\u001b[0;31mNameError\u001b[0m: name 'Evaluation' is not defined"
     ]
    }
   ],
   "source": [
    "result = Evaluation.evaluate_model(model, test_ds, 0.5)"
   ]
  },
  {
   "cell_type": "markdown",
   "id": "oHhBPM5SbXMc",
   "metadata": {
    "id": "oHhBPM5SbXMc"
   },
   "source": [
    "Here it represents over 98.4% accuracy on validation data i.e. 20% of total data. and 71% accuracy for another dataset, which is not belongs to our dataset (it means our model is more generalized and will perform great for unseen data.)"
   ]
  },
  {
   "cell_type": "code",
   "execution_count": 11,
   "id": "0H9qXB5W-bxp",
   "metadata": {
    "id": "0H9qXB5W-bxp"
   },
   "outputs": [],
   "source": [
    "links = [\"itunes.apple.com/gb/album/whb-bonus-track-version/id358709625\", \"http://45.231.210.144:47317/Mozi.m\", \"www.google.com\", \"http://10.40.102.155:5009/get\", \"http://money.onion\", \"www.achnet.com\", \"https://colab.research.google.com/\"]"
   ]
  },
  {
   "cell_type": "code",
   "execution_count": 12,
   "id": "VXwvbJZt9r_A",
   "metadata": {
    "colab": {
     "base_uri": "https://localhost:8080/"
    },
    "id": "VXwvbJZt9r_A",
    "outputId": "31c99ae4-ba60-4810-f0a6-2c6d48eec9eb"
   },
   "outputs": [
    {
     "name": "stdout",
     "output_type": "stream",
     "text": [
      "1/1 [==============================] - 0s 55ms/step\n",
      "1/1 [==============================] - 0s 55ms/step\n"
     ]
    },
    {
     "name": "stderr",
     "output_type": "stream",
     "text": [
      "2024-11-09 01:49:51.689089: I tensorflow/core/common_runtime/executor.cc:1197] [/device:CPU:0] (DEBUG INFO) Executor start aborting (this does not indicate an error and you can ignore this message): INVALID_ARGUMENT: You must feed a value for placeholder tensor 'Placeholder/_20' with dtype int64\n",
      "\t [[{{node Placeholder/_20}}]]\n",
      "2024-11-09 01:49:51.689550: I tensorflow/core/common_runtime/executor.cc:1197] [/device:CPU:0] (DEBUG INFO) Executor start aborting (this does not indicate an error and you can ignore this message): INVALID_ARGUMENT: You must feed a value for placeholder tensor 'Placeholder/_17' with dtype resource\n",
      "\t [[{{node Placeholder/_17}}]]\n",
      "2024-11-09 01:49:51.789991: I tensorflow/core/common_runtime/executor.cc:1197] [/device:CPU:0] (DEBUG INFO) Executor start aborting (this does not indicate an error and you can ignore this message): INVALID_ARGUMENT: You must feed a value for placeholder tensor 'Placeholder/_17' with dtype resource\n",
      "\t [[{{node Placeholder/_17}}]]\n",
      "2024-11-09 01:49:51.790396: I tensorflow/core/common_runtime/executor.cc:1197] [/device:CPU:0] (DEBUG INFO) Executor start aborting (this does not indicate an error and you can ignore this message): INVALID_ARGUMENT: You must feed a value for placeholder tensor 'Placeholder/_20' with dtype int64\n",
      "\t [[{{node Placeholder/_20}}]]\n"
     ]
    },
    {
     "name": "stdout",
     "output_type": "stream",
     "text": [
      "1/1 [==============================] - 0s 56ms/step\n",
      "1/1 [==============================] - 0s 55ms/step\n"
     ]
    },
    {
     "name": "stderr",
     "output_type": "stream",
     "text": [
      "2024-11-09 01:49:51.892045: I tensorflow/core/common_runtime/executor.cc:1197] [/device:CPU:0] (DEBUG INFO) Executor start aborting (this does not indicate an error and you can ignore this message): INVALID_ARGUMENT: You must feed a value for placeholder tensor 'Placeholder/_18' with dtype int64\n",
      "\t [[{{node Placeholder/_18}}]]\n",
      "2024-11-09 01:49:51.892475: I tensorflow/core/common_runtime/executor.cc:1197] [/device:CPU:0] (DEBUG INFO) Executor start aborting (this does not indicate an error and you can ignore this message): INVALID_ARGUMENT: You must feed a value for placeholder tensor 'Placeholder/_19' with dtype string\n",
      "\t [[{{node Placeholder/_19}}]]\n",
      "2024-11-09 01:49:51.993459: I tensorflow/core/common_runtime/executor.cc:1197] [/device:CPU:0] (DEBUG INFO) Executor start aborting (this does not indicate an error and you can ignore this message): INVALID_ARGUMENT: You must feed a value for placeholder tensor 'Placeholder/_0' with dtype string and shape [1]\n",
      "\t [[{{node Placeholder/_0}}]]\n",
      "2024-11-09 01:49:51.993817: I tensorflow/core/common_runtime/executor.cc:1197] [/device:CPU:0] (DEBUG INFO) Executor start aborting (this does not indicate an error and you can ignore this message): INVALID_ARGUMENT: You must feed a value for placeholder tensor 'Placeholder/_1' with dtype int64 and shape [1,18]\n",
      "\t [[{{node Placeholder/_1}}]]\n"
     ]
    },
    {
     "name": "stdout",
     "output_type": "stream",
     "text": [
      "1/1 [==============================] - 0s 55ms/step\n",
      "1/1 [==============================] - 0s 58ms/step\n"
     ]
    },
    {
     "name": "stderr",
     "output_type": "stream",
     "text": [
      "2024-11-09 01:49:52.094561: I tensorflow/core/common_runtime/executor.cc:1197] [/device:CPU:0] (DEBUG INFO) Executor start aborting (this does not indicate an error and you can ignore this message): INVALID_ARGUMENT: You must feed a value for placeholder tensor 'Placeholder/_19' with dtype string\n",
      "\t [[{{node Placeholder/_19}}]]\n",
      "2024-11-09 01:49:52.094983: I tensorflow/core/common_runtime/executor.cc:1197] [/device:CPU:0] (DEBUG INFO) Executor start aborting (this does not indicate an error and you can ignore this message): INVALID_ARGUMENT: You must feed a value for placeholder tensor 'Placeholder/_2' with dtype int64 and shape [1]\n",
      "\t [[{{node Placeholder/_2}}]]\n",
      "2024-11-09 01:49:52.194282: I tensorflow/core/common_runtime/executor.cc:1197] [/device:CPU:0] (DEBUG INFO) Executor start aborting (this does not indicate an error and you can ignore this message): INVALID_ARGUMENT: You must feed a value for placeholder tensor 'Placeholder/_2' with dtype int64 and shape [1]\n",
      "\t [[{{node Placeholder/_2}}]]\n",
      "2024-11-09 01:49:52.194633: I tensorflow/core/common_runtime/executor.cc:1197] [/device:CPU:0] (DEBUG INFO) Executor start aborting (this does not indicate an error and you can ignore this message): INVALID_ARGUMENT: You must feed a value for placeholder tensor 'Placeholder/_0' with dtype string and shape [1]\n",
      "\t [[{{node Placeholder/_0}}]]\n"
     ]
    },
    {
     "name": "stdout",
     "output_type": "stream",
     "text": [
      "1/1 [==============================] - 0s 54ms/step\n"
     ]
    },
    {
     "name": "stderr",
     "output_type": "stream",
     "text": [
      "2024-11-09 01:49:52.298889: I tensorflow/core/common_runtime/executor.cc:1197] [/device:CPU:0] (DEBUG INFO) Executor start aborting (this does not indicate an error and you can ignore this message): INVALID_ARGUMENT: You must feed a value for placeholder tensor 'Placeholder/_19' with dtype string\n",
      "\t [[{{node Placeholder/_19}}]]\n",
      "2024-11-09 01:49:52.299290: I tensorflow/core/common_runtime/executor.cc:1197] [/device:CPU:0] (DEBUG INFO) Executor start aborting (this does not indicate an error and you can ignore this message): INVALID_ARGUMENT: You must feed a value for placeholder tensor 'Placeholder/_18' with dtype int64\n",
      "\t [[{{node Placeholder/_18}}]]\n"
     ]
    },
    {
     "data": {
      "text/plain": [
       "['Safe', 'Malicious', 'Safe', 'Malicious', 'Malicious', 'Safe', 'Malicious']"
      ]
     },
     "execution_count": 12,
     "metadata": {},
     "output_type": "execute_result"
    }
   ],
   "source": [
    "Evaluation.make_prediction(model,Batch_Size, Vectorize_Layer, links, 0.5)"
   ]
  },
  {
   "cell_type": "code",
   "execution_count": 3,
   "id": "efGpPhVPNjxm",
   "metadata": {
    "colab": {
     "base_uri": "https://localhost:8080/"
    },
    "id": "efGpPhVPNjxm",
    "outputId": "b142dc42-740e-407a-f54d-2ff0c98b337f"
   },
   "outputs": [
    {
     "name": "stderr",
     "output_type": "stream",
     "text": [
      "2024-11-09 04:15:14.641614: W tensorflow/tsl/framework/cpu_allocator_impl.cc:83] Allocation of 120104784 exceeds 10% of free system memory.\n",
      "2024-11-09 04:15:14.853219: W tensorflow/tsl/framework/cpu_allocator_impl.cc:83] Allocation of 120104784 exceeds 10% of free system memory.\n",
      "2024-11-09 04:15:14.904349: I tensorflow/core/common_runtime/executor.cc:1197] [/device:CPU:0] (DEBUG INFO) Executor start aborting (this does not indicate an error and you can ignore this message): INVALID_ARGUMENT: You must feed a value for placeholder tensor 'Placeholder/_2' with dtype int64 and shape [834061]\n",
      "\t [[{{node Placeholder/_2}}]]\n",
      "2024-11-09 04:15:40.007919: W tensorflow/tsl/framework/cpu_allocator_impl.cc:83] Allocation of 89216856 exceeds 10% of free system memory.\n",
      "2024-11-09 04:15:40.013035: W tensorflow/tsl/framework/cpu_allocator_impl.cc:83] Allocation of 29738952 exceeds 10% of free system memory.\n",
      "2024-11-09 04:15:46.196574: W tensorflow/tsl/framework/cpu_allocator_impl.cc:83] Allocation of 89216856 exceeds 10% of free system memory.\n"
     ]
    },
    {
     "name": "stdout",
     "output_type": "stream",
     "text": [
      "Model: \"model_2\"\n",
      "__________________________________________________________________________________________________\n",
      " Layer (type)                   Output Shape         Param #     Connected to                     \n",
      "==================================================================================================\n",
      " input_2 (InputLayer)           [(None, 18)]         0           []                               \n",
      "                                                                                                  \n",
      " dense (Dense)                  (None, 128)          2432        ['input_2[0][0]']                \n",
      "                                                                                                  \n",
      " dropout_3 (Dropout)            (None, 128)          0           ['dense[0][0]']                  \n",
      "                                                                                                  \n",
      " dense_1 (Dense)                (None, 256)          33024       ['dropout_3[0][0]']              \n",
      "                                                                                                  \n",
      " dropout_4 (Dropout)            (None, 256)          0           ['dense_1[0][0]']                \n",
      "                                                                                                  \n",
      " input_1 (InputLayer)           [(None, 50)]         0           []                               \n",
      "                                                                                                  \n",
      " dense_2 (Dense)                (None, 512)          131584      ['dropout_4[0][0]']              \n",
      "                                                                                                  \n",
      " embedding (Embedding)          (None, 50, 128)      12800000    ['input_1[0][0]']                \n",
      "                                                                                                  \n",
      " dropout_5 (Dropout)            (None, 512)          0           ['dense_2[0][0]']                \n",
      "                                                                                                  \n",
      " gru (GRU)                      (None, 50, 128)      99072       ['embedding[0][0]']              \n",
      "                                                                                                  \n",
      " dense_3 (Dense)                (None, 512)          262656      ['dropout_5[0][0]']              \n",
      "                                                                                                  \n",
      " dropout (Dropout)              (None, 50, 128)      0           ['gru[0][0]']                    \n",
      "                                                                                                  \n",
      " dropout_6 (Dropout)            (None, 512)          0           ['dense_3[0][0]']                \n",
      "                                                                                                  \n",
      " gru_1 (GRU)                    (None, 50, 128)      99072       ['dropout[0][0]']                \n",
      "                                                                                                  \n",
      " dense_4 (Dense)                (None, 256)          131328      ['dropout_6[0][0]']              \n",
      "                                                                                                  \n",
      " dropout_1 (Dropout)            (None, 50, 128)      0           ['gru_1[0][0]']                  \n",
      "                                                                                                  \n",
      " dropout_7 (Dropout)            (None, 256)          0           ['dense_4[0][0]']                \n",
      "                                                                                                  \n",
      " gru_2 (GRU)                    (None, 128)          99072       ['dropout_1[0][0]']              \n",
      "                                                                                                  \n",
      " dense_5 (Dense)                (None, 128)          32896       ['dropout_7[0][0]']              \n",
      "                                                                                                  \n",
      " dropout_2 (Dropout)            (None, 128)          0           ['gru_2[0][0]']                  \n",
      "                                                                                                  \n",
      " dropout_8 (Dropout)            (None, 128)          0           ['dense_5[0][0]']                \n",
      "                                                                                                  \n",
      " concatenate (Concatenate)      (None, 256)          0           ['dropout_2[0][0]',              \n",
      "                                                                  'dropout_8[0][0]']              \n",
      "                                                                                                  \n",
      " dense_6 (Dense)                (None, 64)           16448       ['concatenate[0][0]']            \n",
      "                                                                                                  \n",
      " dropout_9 (Dropout)            (None, 64)           0           ['dense_6[0][0]']                \n",
      "                                                                                                  \n",
      " dense_7 (Dense)                (None, 1)            65          ['dropout_9[0][0]']              \n",
      "                                                                                                  \n",
      "==================================================================================================\n",
      "Total params: 13,707,649\n",
      "Trainable params: 13,707,649\n",
      "Non-trainable params: 0\n",
      "__________________________________________________________________________________________________\n",
      "None\n",
      "Epoch 1/5\n"
     ]
    },
    {
     "name": "stderr",
     "output_type": "stream",
     "text": [
      "2024-11-09 04:15:47.859109: I tensorflow/core/common_runtime/executor.cc:1197] [/device:CPU:0] (DEBUG INFO) Executor start aborting (this does not indicate an error and you can ignore this message): INVALID_ARGUMENT: You must feed a value for placeholder tensor 'Placeholder/_2' with dtype int64 and shape [834061]\n",
      "\t [[{{node Placeholder/_2}}]]\n"
     ]
    },
    {
     "name": "stdout",
     "output_type": "stream",
     "text": [
      "13033/13033 [==============================] - 2718s 208ms/step - loss: 0.1469 - accuracy: 0.9251\n",
      "Epoch 2/5\n",
      "13033/13033 [==============================] - 2685s 206ms/step - loss: 0.1073 - accuracy: 0.9405\n",
      "Epoch 3/5\n",
      "13033/13033 [==============================] - 2700s 207ms/step - loss: 0.0872 - accuracy: 0.9515\n",
      "Epoch 4/5\n",
      "13033/13033 [==============================] - 2695s 207ms/step - loss: 0.0707 - accuracy: 0.9631\n",
      "Epoch 5/5\n",
      "13033/13033 [==============================] - 2697s 207ms/step - loss: 0.0576 - accuracy: 0.9717\n"
     ]
    }
   ],
   "source": [
    "df1 = pd.read_csv(\"dataset/df_final.csv\")\n",
    "df2 = pd.read_csv(\"dataset/all_top_domains_merged.csv\")\n",
    "df3 = pd.read_csv(\"dataset/df_another_validation.csv\")\n",
    "url_dataframe = pd.concat([df1,df2, df3], axis=0)\n",
    "url_dataframe = url_dataframe.sample(frac=1).reset_index(drop=True)\n",
    "url_dataframe = url_dataframe.drop_duplicates()\n",
    "url_dataframe = url_dataframe.dropna().reset_index(drop=True)\n",
    "# Batch_Size = 16 * strategy.num_replicas_in_sync\n",
    "Batch_Size = 64\n",
    "N_for_NGram = 5\n",
    "Sequence_length = 50\n",
    "epochs = 5\n",
    "n_classes = 2\n",
    "max_tokens = 100000\n",
    "# with strategy.scope():\n",
    "train_ds = DataProcessing.process_train_data(url_dataframe,Batch_Size)\n",
    "Vectorize_Layer = tf.keras.layers.TextVectorization(standardize='lower',\n",
    "                                                  split=\"character\",\n",
    "                                                  ngrams=(N_for_NGram,),\n",
    "                                                  output_mode='int',\n",
    "                                                  max_tokens = max_tokens,\n",
    "                                                  output_sequence_length=Sequence_length)\n",
    "\n",
    "# Make a text-only dataset (without labels), then call adapt\n",
    "train_text = train_ds.map(lambda x,z: x[0])\n",
    "Vectorize_Layer.adapt(train_text)\n",
    "train_ds = train_ds.map(lambda x, z: DataProcessing.vectorize_text(x[0],x[1],z,Vectorize_Layer))\n",
    "train_ds = train_ds.cache().prefetch(buffer_size=tf.data.AUTOTUNE)\n",
    "\n",
    "model = Model.create_model(Sequence_length, max_tokens, 18)\n",
    "print(model.summary())\n",
    "model.compile(loss='binary_crossentropy', optimizer='adam', metrics=['accuracy'])\n",
    "history = model.fit(\n",
    "    train_ds,\n",
    "    epochs=epochs,\n",
    "    batch_size=Batch_Size)"
   ]
  },
  {
   "cell_type": "code",
   "execution_count": 4,
   "id": "XGOL_fNXOSn2",
   "metadata": {
    "colab": {
     "base_uri": "https://localhost:8080/"
    },
    "id": "XGOL_fNXOSn2",
    "outputId": "fdcf182a-4b89-48e2-e6aa-e635f9130380"
   },
   "outputs": [
    {
     "name": "stderr",
     "output_type": "stream",
     "text": [
      "2024-11-09 08:00:42.804410: I tensorflow/core/common_runtime/executor.cc:1197] [/device:CPU:0] (DEBUG INFO) Executor start aborting (this does not indicate an error and you can ignore this message): INVALID_ARGUMENT: You must feed a value for placeholder tensor 'Placeholder/_2' with dtype int64 and shape [1]\n",
      "\t [[{{node Placeholder/_2}}]]\n",
      "2024-11-09 08:00:42.804839: I tensorflow/core/common_runtime/executor.cc:1197] [/device:CPU:0] (DEBUG INFO) Executor start aborting (this does not indicate an error and you can ignore this message): INVALID_ARGUMENT: You must feed a value for placeholder tensor 'Placeholder/_20' with dtype int64\n",
      "\t [[{{node Placeholder/_20}}]]\n"
     ]
    },
    {
     "name": "stdout",
     "output_type": "stream",
     "text": [
      "1/1 [==============================] - 1s 754ms/step\n",
      "1/1 [==============================] - 0s 52ms/step\n",
      "1/1 [==============================] - 0s 51ms/step\n"
     ]
    },
    {
     "name": "stderr",
     "output_type": "stream",
     "text": [
      "2024-11-09 08:00:43.604414: I tensorflow/core/common_runtime/executor.cc:1197] [/device:CPU:0] (DEBUG INFO) Executor start aborting (this does not indicate an error and you can ignore this message): INVALID_ARGUMENT: You must feed a value for placeholder tensor 'Placeholder/_20' with dtype int64\n",
      "\t [[{{node Placeholder/_20}}]]\n",
      "2024-11-09 08:00:43.604853: I tensorflow/core/common_runtime/executor.cc:1197] [/device:CPU:0] (DEBUG INFO) Executor start aborting (this does not indicate an error and you can ignore this message): INVALID_ARGUMENT: You must feed a value for placeholder tensor 'Placeholder/_19' with dtype string\n",
      "\t [[{{node Placeholder/_19}}]]\n",
      "2024-11-09 08:00:43.702052: I tensorflow/core/common_runtime/executor.cc:1197] [/device:CPU:0] (DEBUG INFO) Executor start aborting (this does not indicate an error and you can ignore this message): INVALID_ARGUMENT: You must feed a value for placeholder tensor 'Placeholder/_18' with dtype int64\n",
      "\t [[{{node Placeholder/_18}}]]\n",
      "2024-11-09 08:00:43.702420: I tensorflow/core/common_runtime/executor.cc:1197] [/device:CPU:0] (DEBUG INFO) Executor start aborting (this does not indicate an error and you can ignore this message): INVALID_ARGUMENT: You must feed a value for placeholder tensor 'Placeholder/_18' with dtype int64\n",
      "\t [[{{node Placeholder/_18}}]]\n",
      "2024-11-09 08:00:43.798564: I tensorflow/core/common_runtime/executor.cc:1197] [/device:CPU:0] (DEBUG INFO) Executor start aborting (this does not indicate an error and you can ignore this message): INVALID_ARGUMENT: You must feed a value for placeholder tensor 'Placeholder/_2' with dtype int64 and shape [1]\n",
      "\t [[{{node Placeholder/_2}}]]\n",
      "2024-11-09 08:00:43.799027: I tensorflow/core/common_runtime/executor.cc:1197] [/device:CPU:0] (DEBUG INFO) Executor start aborting (this does not indicate an error and you can ignore this message): INVALID_ARGUMENT: You must feed a value for placeholder tensor 'Placeholder/_0' with dtype string and shape [1]\n",
      "\t [[{{node Placeholder/_0}}]]\n"
     ]
    },
    {
     "name": "stdout",
     "output_type": "stream",
     "text": [
      "1/1 [==============================] - 0s 54ms/step\n",
      "1/1 [==============================] - 0s 64ms/step\n",
      "1/1 [==============================] - 0s 52ms/step\n"
     ]
    },
    {
     "name": "stderr",
     "output_type": "stream",
     "text": [
      "2024-11-09 08:00:43.905151: I tensorflow/core/common_runtime/executor.cc:1197] [/device:CPU:0] (DEBUG INFO) Executor start aborting (this does not indicate an error and you can ignore this message): INVALID_ARGUMENT: You must feed a value for placeholder tensor 'Placeholder/_2' with dtype int64 and shape [1]\n",
      "\t [[{{node Placeholder/_2}}]]\n",
      "2024-11-09 08:00:43.905849: I tensorflow/core/common_runtime/executor.cc:1197] [/device:CPU:0] (DEBUG INFO) Executor start aborting (this does not indicate an error and you can ignore this message): INVALID_ARGUMENT: You must feed a value for placeholder tensor 'Placeholder/_2' with dtype int64 and shape [1]\n",
      "\t [[{{node Placeholder/_2}}]]\n",
      "2024-11-09 08:00:44.013359: I tensorflow/core/common_runtime/executor.cc:1197] [/device:CPU:0] (DEBUG INFO) Executor start aborting (this does not indicate an error and you can ignore this message): INVALID_ARGUMENT: You must feed a value for placeholder tensor 'Placeholder/_1' with dtype int64 and shape [1,18]\n",
      "\t [[{{node Placeholder/_1}}]]\n",
      "2024-11-09 08:00:44.013773: I tensorflow/core/common_runtime/executor.cc:1197] [/device:CPU:0] (DEBUG INFO) Executor start aborting (this does not indicate an error and you can ignore this message): INVALID_ARGUMENT: You must feed a value for placeholder tensor 'Placeholder/_2' with dtype int64 and shape [1]\n",
      "\t [[{{node Placeholder/_2}}]]\n"
     ]
    },
    {
     "name": "stdout",
     "output_type": "stream",
     "text": [
      "1/1 [==============================] - 0s 53ms/step\n",
      "1/1 [==============================] - 0s 54ms/step\n"
     ]
    },
    {
     "name": "stderr",
     "output_type": "stream",
     "text": [
      "2024-11-09 08:00:44.110451: I tensorflow/core/common_runtime/executor.cc:1197] [/device:CPU:0] (DEBUG INFO) Executor start aborting (this does not indicate an error and you can ignore this message): INVALID_ARGUMENT: You must feed a value for placeholder tensor 'Placeholder/_20' with dtype int64\n",
      "\t [[{{node Placeholder/_20}}]]\n",
      "2024-11-09 08:00:44.110865: I tensorflow/core/common_runtime/executor.cc:1197] [/device:CPU:0] (DEBUG INFO) Executor start aborting (this does not indicate an error and you can ignore this message): INVALID_ARGUMENT: You must feed a value for placeholder tensor 'Placeholder/_17' with dtype resource\n",
      "\t [[{{node Placeholder/_17}}]]\n",
      "2024-11-09 08:00:44.209979: I tensorflow/core/common_runtime/executor.cc:1197] [/device:CPU:0] (DEBUG INFO) Executor start aborting (this does not indicate an error and you can ignore this message): INVALID_ARGUMENT: You must feed a value for placeholder tensor 'Placeholder/_17' with dtype resource\n",
      "\t [[{{node Placeholder/_17}}]]\n",
      "2024-11-09 08:00:44.210354: I tensorflow/core/common_runtime/executor.cc:1197] [/device:CPU:0] (DEBUG INFO) Executor start aborting (this does not indicate an error and you can ignore this message): INVALID_ARGUMENT: You must feed a value for placeholder tensor 'Placeholder/_17' with dtype resource\n",
      "\t [[{{node Placeholder/_17}}]]\n"
     ]
    },
    {
     "data": {
      "text/plain": [
       "['Safe',\n",
       " 'Malicious',\n",
       " 'Safe',\n",
       " 'Safe',\n",
       " 'Malicious',\n",
       " 'Malicious',\n",
       " 'Safe',\n",
       " 'Malicious']"
      ]
     },
     "execution_count": 4,
     "metadata": {},
     "output_type": "execute_result"
    }
   ],
   "source": [
    "links = [\"itunes.apple.com/gb/album/whb-bonus-track-version/id358709625\",\"http://45.231.210.144:47317/Mozi.m\",\"youtu.be\", \"www.google.com\", \"http://10.40.102.155:5009/get\", \"http://money.onion\", \"www.achnet.com\", \"https://colab.research.google.com/\"]\n",
    "Evaluation.make_prediction(model,1, Vectorize_Layer, links, 0.5)"
   ]
  },
  {
   "cell_type": "markdown",
   "id": "7O542kBtOaD4",
   "metadata": {
    "id": "7O542kBtOaD4"
   },
   "source": [
    "# Save the Model and Vocabulary of Vectorization Layer"
   ]
  },
  {
   "cell_type": "code",
   "execution_count": 5,
   "id": "HVnInwRHAUTV",
   "metadata": {
    "id": "HVnInwRHAUTV"
   },
   "outputs": [],
   "source": [
    "model.save(\"Trained_Model/Model/Model.keras\")"
   ]
  },
  {
   "cell_type": "code",
   "execution_count": 6,
   "id": "WF8isQvRD19r",
   "metadata": {
    "id": "WF8isQvRD19r"
   },
   "outputs": [],
   "source": [
    "import json\n",
    "vocab = Vectorize_Layer.get_vocabulary()\n",
    "with open(\"Trained_Model/Vectorization_Layer/vocab.json\", \"w\") as f:\n",
    "    json.dump(vocab, f)"
   ]
  },
  {
   "cell_type": "code",
   "execution_count": 7,
   "id": "1v57vcMsU3Aw",
   "metadata": {
    "id": "1v57vcMsU3Aw"
   },
   "outputs": [
    {
     "name": "stdout",
     "output_type": "stream",
     "text": [
      "64 50 5 100000\n"
     ]
    }
   ],
   "source": [
    "print(Batch_Size, Sequence_length, N_for_NGram, max_tokens)"
   ]
  },
  {
   "cell_type": "markdown",
   "id": "10j0p0jkOkn-",
   "metadata": {
    "id": "10j0p0jkOkn-"
   },
   "source": [
    "# Loading the Model and Vocabulary from Saved Model"
   ]
  },
  {
   "cell_type": "code",
   "execution_count": 4,
   "id": "405ccfa5",
   "metadata": {},
   "outputs": [],
   "source": [
    "import pandas as pd\n",
    "import numpy as np\n",
    "import matplotlib.pyplot as plt\n",
    "import random\n",
    "import re\n",
    "import json\n",
    "import tensorflow as tf\n",
    "from nltk.util import ngrams\n",
    "import itertools\n",
    "from Utils import Evaluation\n",
    "from Utils import DataProcessing, FeatureCreation, Model"
   ]
  },
  {
   "cell_type": "code",
   "execution_count": 5,
   "id": "_cTTqzvQVFwJ",
   "metadata": {
    "id": "_cTTqzvQVFwJ"
   },
   "outputs": [
    {
     "name": "stderr",
     "output_type": "stream",
     "text": [
      "2024-11-09 11:22:41.328358: W tensorflow/tsl/framework/cpu_allocator_impl.cc:83] Allocation of 51200000 exceeds 10% of free system memory.\n",
      "2024-11-09 11:22:41.358597: W tensorflow/tsl/framework/cpu_allocator_impl.cc:83] Allocation of 51200000 exceeds 10% of free system memory.\n",
      "2024-11-09 11:22:41.366347: W tensorflow/tsl/framework/cpu_allocator_impl.cc:83] Allocation of 51200000 exceeds 10% of free system memory.\n",
      "2024-11-09 11:22:41.867979: W tensorflow/tsl/framework/cpu_allocator_impl.cc:83] Allocation of 51200000 exceeds 10% of free system memory.\n",
      "2024-11-09 11:22:41.923177: W tensorflow/tsl/framework/cpu_allocator_impl.cc:83] Allocation of 51200000 exceeds 10% of free system memory.\n"
     ]
    }
   ],
   "source": [
    "modell = tf.keras.models.load_model(\"Trained_Model/Model/Model.keras\")"
   ]
  },
  {
   "cell_type": "code",
   "execution_count": 6,
   "id": "bJz9uHjfUDZE",
   "metadata": {
    "id": "bJz9uHjfUDZE"
   },
   "outputs": [],
   "source": [
    "# Batch_Size = 16 * strategy.num_replicas_in_sync\n",
    "Batch_Size = 64\n",
    "max_tokens = 100000\n",
    "N_for_NGram = 5\n",
    "Sequence_length = 50\n",
    "with open(\"Trained_Model/Vectorization_Layer/vocab.json\", \"r\") as f:\n",
    "    vocab = json.load(f)\n",
    "VL = tf.keras.layers.TextVectorization(standardize='lower',\n",
    "                                                   split=\"character\",\n",
    "                                                   ngrams=(N_for_NGram,),\n",
    "                                                   output_mode='int',\n",
    "                                                   output_sequence_length=Sequence_length,\n",
    "                                                   vocabulary=vocab)"
   ]
  },
  {
   "cell_type": "code",
   "execution_count": 7,
   "id": "UPolGWCQVebN",
   "metadata": {
    "colab": {
     "base_uri": "https://localhost:8080/"
    },
    "id": "UPolGWCQVebN",
    "outputId": "eb8d0b42-275d-4bab-b040-9a32d7d923c3"
   },
   "outputs": [
    {
     "name": "stderr",
     "output_type": "stream",
     "text": [
      "2024-11-09 11:22:42.984443: I tensorflow/core/common_runtime/executor.cc:1197] [/device:CPU:0] (DEBUG INFO) Executor start aborting (this does not indicate an error and you can ignore this message): INVALID_ARGUMENT: You must feed a value for placeholder tensor 'Placeholder/_18' with dtype int64\n",
      "\t [[{{node Placeholder/_18}}]]\n",
      "2024-11-09 11:22:42.984920: I tensorflow/core/common_runtime/executor.cc:1197] [/device:CPU:0] (DEBUG INFO) Executor start aborting (this does not indicate an error and you can ignore this message): INVALID_ARGUMENT: You must feed a value for placeholder tensor 'Placeholder/_17' with dtype resource\n",
      "\t [[{{node Placeholder/_17}}]]\n"
     ]
    },
    {
     "name": "stdout",
     "output_type": "stream",
     "text": [
      "1/1 [==============================] - 1s 931ms/step\n",
      "1/1 [==============================] - 0s 55ms/step\n",
      "      1/Unknown - 0s 45ms/step"
     ]
    },
    {
     "name": "stderr",
     "output_type": "stream",
     "text": [
      "2024-11-09 11:22:44.011566: I tensorflow/core/common_runtime/executor.cc:1197] [/device:CPU:0] (DEBUG INFO) Executor start aborting (this does not indicate an error and you can ignore this message): INVALID_ARGUMENT: You must feed a value for placeholder tensor 'Placeholder/_17' with dtype resource\n",
      "\t [[{{node Placeholder/_17}}]]\n",
      "2024-11-09 11:22:44.012044: I tensorflow/core/common_runtime/executor.cc:1197] [/device:CPU:0] (DEBUG INFO) Executor start aborting (this does not indicate an error and you can ignore this message): INVALID_ARGUMENT: You must feed a value for placeholder tensor 'Placeholder/_2' with dtype int64 and shape [1]\n",
      "\t [[{{node Placeholder/_2}}]]\n",
      "2024-11-09 11:22:44.163306: I tensorflow/core/common_runtime/executor.cc:1197] [/device:CPU:0] (DEBUG INFO) Executor start aborting (this does not indicate an error and you can ignore this message): INVALID_ARGUMENT: You must feed a value for placeholder tensor 'Placeholder/_18' with dtype int64\n",
      "\t [[{{node Placeholder/_18}}]]\n",
      "2024-11-09 11:22:44.163686: I tensorflow/core/common_runtime/executor.cc:1197] [/device:CPU:0] (DEBUG INFO) Executor start aborting (this does not indicate an error and you can ignore this message): INVALID_ARGUMENT: You must feed a value for placeholder tensor 'Placeholder/_18' with dtype int64\n",
      "\t [[{{node Placeholder/_18}}]]\n"
     ]
    },
    {
     "name": "stdout",
     "output_type": "stream",
     "text": [
      "1/1 [==============================] - 0s 54ms/step\n",
      "1/1 [==============================] - 0s 54ms/step\n",
      "      1/Unknown - 0s 46ms/step"
     ]
    },
    {
     "name": "stderr",
     "output_type": "stream",
     "text": [
      "2024-11-09 11:22:44.314166: I tensorflow/core/common_runtime/executor.cc:1197] [/device:CPU:0] (DEBUG INFO) Executor start aborting (this does not indicate an error and you can ignore this message): INVALID_ARGUMENT: You must feed a value for placeholder tensor 'Placeholder/_17' with dtype resource\n",
      "\t [[{{node Placeholder/_17}}]]\n",
      "2024-11-09 11:22:44.314623: I tensorflow/core/common_runtime/executor.cc:1197] [/device:CPU:0] (DEBUG INFO) Executor start aborting (this does not indicate an error and you can ignore this message): INVALID_ARGUMENT: You must feed a value for placeholder tensor 'Placeholder/_19' with dtype string\n",
      "\t [[{{node Placeholder/_19}}]]\n",
      "2024-11-09 11:22:44.462647: I tensorflow/core/common_runtime/executor.cc:1197] [/device:CPU:0] (DEBUG INFO) Executor start aborting (this does not indicate an error and you can ignore this message): INVALID_ARGUMENT: You must feed a value for placeholder tensor 'Placeholder/_19' with dtype string\n",
      "\t [[{{node Placeholder/_19}}]]\n",
      "2024-11-09 11:22:44.463100: I tensorflow/core/common_runtime/executor.cc:1197] [/device:CPU:0] (DEBUG INFO) Executor start aborting (this does not indicate an error and you can ignore this message): INVALID_ARGUMENT: You must feed a value for placeholder tensor 'Placeholder/_1' with dtype int64 and shape [1,18]\n",
      "\t [[{{node Placeholder/_1}}]]\n"
     ]
    },
    {
     "name": "stdout",
     "output_type": "stream",
     "text": [
      "1/1 [==============================] - 0s 57ms/step\n",
      "1/1 [==============================] - 0s 53ms/step\n",
      "      1/Unknown - 0s 47ms/step"
     ]
    },
    {
     "name": "stderr",
     "output_type": "stream",
     "text": [
      "2024-11-09 11:22:44.612487: I tensorflow/core/common_runtime/executor.cc:1197] [/device:CPU:0] (DEBUG INFO) Executor start aborting (this does not indicate an error and you can ignore this message): INVALID_ARGUMENT: You must feed a value for placeholder tensor 'Placeholder/_20' with dtype int64\n",
      "\t [[{{node Placeholder/_20}}]]\n",
      "2024-11-09 11:22:44.612945: I tensorflow/core/common_runtime/executor.cc:1197] [/device:CPU:0] (DEBUG INFO) Executor start aborting (this does not indicate an error and you can ignore this message): INVALID_ARGUMENT: You must feed a value for placeholder tensor 'Placeholder/_0' with dtype string and shape [1]\n",
      "\t [[{{node Placeholder/_0}}]]\n",
      "2024-11-09 11:22:44.764808: I tensorflow/core/common_runtime/executor.cc:1197] [/device:CPU:0] (DEBUG INFO) Executor start aborting (this does not indicate an error and you can ignore this message): INVALID_ARGUMENT: You must feed a value for placeholder tensor 'Placeholder/_17' with dtype resource\n",
      "\t [[{{node Placeholder/_17}}]]\n",
      "2024-11-09 11:22:44.765214: I tensorflow/core/common_runtime/executor.cc:1197] [/device:CPU:0] (DEBUG INFO) Executor start aborting (this does not indicate an error and you can ignore this message): INVALID_ARGUMENT: You must feed a value for placeholder tensor 'Placeholder/_20' with dtype int64\n",
      "\t [[{{node Placeholder/_20}}]]\n"
     ]
    },
    {
     "name": "stdout",
     "output_type": "stream",
     "text": [
      "1/1 [==============================] - 0s 56ms/step\n",
      "1/1 [==============================] - 0s 55ms/step\n"
     ]
    },
    {
     "name": "stderr",
     "output_type": "stream",
     "text": [
      "2024-11-09 11:22:44.914084: I tensorflow/core/common_runtime/executor.cc:1197] [/device:CPU:0] (DEBUG INFO) Executor start aborting (this does not indicate an error and you can ignore this message): INVALID_ARGUMENT: You must feed a value for placeholder tensor 'Placeholder/_17' with dtype resource\n",
      "\t [[{{node Placeholder/_17}}]]\n",
      "2024-11-09 11:22:44.914535: I tensorflow/core/common_runtime/executor.cc:1197] [/device:CPU:0] (DEBUG INFO) Executor start aborting (this does not indicate an error and you can ignore this message): INVALID_ARGUMENT: You must feed a value for placeholder tensor 'Placeholder/_19' with dtype string\n",
      "\t [[{{node Placeholder/_19}}]]\n"
     ]
    },
    {
     "data": {
      "text/plain": [
       "['Safe',\n",
       " 'Malicious',\n",
       " 'Safe',\n",
       " 'Safe',\n",
       " 'Malicious',\n",
       " 'Malicious',\n",
       " 'Safe',\n",
       " 'Malicious']"
      ]
     },
     "execution_count": 7,
     "metadata": {},
     "output_type": "execute_result"
    }
   ],
   "source": [
    "links = [\"itunes.apple.com/gb/album/whb-bonus-track-version/id358709625\",\"http://45.231.210.144:47317/Mozi.m\",\"youtu.be\", \"www.google.com\", \"http://10.40.102.155:5009/get\", \"http://money.onion\", \"www.achnet.com\", \"https://colab.research.google.com/\"]\n",
    "Evaluation.make_prediction(modell,Batch_Size, VL, links, 0.5)"
   ]
  },
  {
   "cell_type": "code",
   "execution_count": null,
   "id": "eRQitw4XthAF",
   "metadata": {
    "id": "eRQitw4XthAF"
   },
   "outputs": [],
   "source": []
  }
 ],
 "metadata": {
  "accelerator": "TPU",
  "colab": {
   "provenance": []
  },
  "kernelspec": {
   "display_name": "Python 3",
   "name": "python3"
  },
  "language_info": {
   "codemirror_mode": {
    "name": "ipython",
    "version": 3
   },
   "file_extension": ".py",
   "mimetype": "text/x-python",
   "name": "python",
   "nbconvert_exporter": "python",
   "pygments_lexer": "ipython3",
   "version": "3.10.15"
  }
 },
 "nbformat": 4,
 "nbformat_minor": 5
}
